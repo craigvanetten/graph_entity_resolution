{
 "cells": [
  {
   "cell_type": "code",
   "execution_count": 1,
   "metadata": {
    "ExecuteTime": {
     "end_time": "2016-09-28T17:34:08.373279",
     "start_time": "2016-09-28T17:34:08.345230"
    },
    "cell_style": "split",
    "collapsed": false,
    "extensions": {
     "jupyter_dashboards": {
      "version": 1,
      "views": {
       "grid_default": {},
       "report_default": {
        "hidden": true
       }
      }
     }
    },
    "init_cell": true,
    "slideshow": {
     "slide_type": "skip"
    }
   },
   "outputs": [
    {
     "data": {
      "text/plain": [
       "{u'controls': False,\n",
       " u'height': 900,\n",
       " u'minScale': 0.2,\n",
       " u'scroll': True,\n",
       " u'start_slideshow_at': 'selected',\n",
       " u'theme': u'serif',\n",
       " u'transition': 'convex',\n",
       " u'width': 1600}"
      ]
     },
     "execution_count": 1,
     "metadata": {},
     "output_type": "execute_result"
    }
   ],
   "source": [
    "from traitlets.config.manager import BaseJSONConfigManager\n",
    "path = \"/Users/bob/anaconda/etc/jupyter/nbconfig\"\n",
    "cm = BaseJSONConfigManager(config_dir=path)\n",
    "pixels = 900\n",
    "cm.update('livereveal', {\n",
    "    'transition': 'convex',\n",
    "    'start_slideshow_at': 'selected',\n",
    "    'scroll': True,\n",
    "    'width': pixels * 16 / 9,\n",
    "    'height': pixels,\n",
    "    'controls': False\n",
    "})"
   ]
  },
  {
   "cell_type": "code",
   "execution_count": 2,
   "metadata": {
    "ExecuteTime": {
     "end_time": "2016-09-28T17:34:11.785206",
     "start_time": "2016-09-28T17:34:08.375969"
    },
    "cell_style": "split",
    "collapsed": false,
    "extensions": {
     "jupyter_dashboards": {
      "version": 1,
      "views": {
       "grid_default": {
        "hidden": true
       },
       "report_default": {
        "hidden": true
       }
      }
     }
    },
    "init_cell": true,
    "nbpresent": {
     "id": "13766493-81a3-476e-bd95-46dddfd5ad87"
    },
    "slideshow": {
     "slide_type": "skip"
    }
   },
   "outputs": [],
   "source": [
    "from __future__ import division\n",
    "\n",
    "%matplotlib inline\n",
    "import matplotlib.pyplot as plt\n",
    "from pylab import rcParams\n",
    "rcParams['figure.figsize'] = (8.0, 6.0)\n",
    "\n",
    "import json\n",
    "import datetime\n",
    "import pytz\n",
    "import itertools\n",
    "\n",
    "import pandas as pd\n",
    "import numpy as np\n",
    "import networkx as nx\n",
    "\n",
    "from tabulate import tabulate "
   ]
  },
  {
   "cell_type": "markdown",
   "metadata": {
    "extensions": {
     "jupyter_dashboards": {
      "version": 1,
      "views": {
       "grid_default": {},
       "report_default": {
        "hidden": false
       }
      }
     }
    },
    "slideshow": {
     "slide_type": "slide"
    }
   },
   "source": [
    "<div><img src=\"title.png\"></div>\n",
    "\n",
    "501c3 Nonprofit started to connect __Professional and Aspiring Data Scientists__ with problems involving __Social Good__.\n",
    "\n",
    "- Hackathons\n",
    "- Meetups"
   ]
  },
  {
   "cell_type": "markdown",
   "metadata": {
    "extensions": {
     "jupyter_dashboards": {
      "version": 1,
      "views": {
       "grid_default": {},
       "report_default": {
        "hidden": false
       }
      }
     }
    },
    "slideshow": {
     "slide_type": "slide"
    }
   },
   "source": [
    "# Anidata 1.x\n",
    "Collection of hackathons and events focused on helping the Fulton County DA Office prosecute Human Trafficking cases.\n",
    "\n",
    "\n",
    "\n"
   ]
  },
  {
   "cell_type": "markdown",
   "metadata": {
    "extensions": {
     "jupyter_dashboards": {
      "version": 1,
      "views": {
       "grid_default": {},
       "report_default": {
        "hidden": false
       }
      }
     }
    },
    "slideshow": {
     "slide_type": "subslide"
    }
   },
   "source": [
    "# Fulton County DA Human Trafficking Problem\n",
    "- Internet Ads are used to solicit for human trafficking\n",
    "- Police, investigators, and DAs often start a case with a snippet of data (a phone number or email address) about a perp\n",
    "- One challenge is that this information is often fleeting\n",
    "- Our goal was to help resolve this issue by performing entity resolution (ER) on the contact information contained in Internet ad posts.\n"
   ]
  },
  {
   "cell_type": "markdown",
   "metadata": {
    "ExecuteTime": {
     "end_time": "2016-09-28T17:42:34.670854",
     "start_time": "2016-09-28T17:42:34.656189"
    },
    "slideshow": {
     "slide_type": "subslide"
    }
   },
   "source": [
    "<table><tr><td>\n",
    "<img  src=\"hackathon.png\" width=600px/></td><td><img  src=\"hackathon2.png\" width=600px/></td></tr></table>"
   ]
  },
  {
   "cell_type": "markdown",
   "metadata": {
    "extensions": {
     "jupyter_dashboards": {
      "version": 1,
      "views": {
       "grid_default": {},
       "report_default": {
        "hidden": false
       }
      }
     }
    },
    "slideshow": {
     "slide_type": "slide"
    }
   },
   "source": [
    "# Data\n",
    "- Scraped several months of ad data from seedy websites\n",
    "- Columns: \n",
    "    - name\n",
    "    - phone number\n",
    "    - oid (poster unique ID)\n",
    "    - posterage\n",
    "    - region\n",
    "    - type\n",
    "- Sample data includes three flat files that pair a `post_id` with an email, user ID, or email address.\n",
    "\n"
   ]
  },
  {
   "cell_type": "markdown",
   "metadata": {
    "extensions": {
     "jupyter_dashboards": {
      "version": 1,
      "views": {
       "grid_default": {},
       "report_default": {
        "hidden": false
       }
      }
     }
    },
    "slideshow": {
     "slide_type": "subslide"
    }
   },
   "source": [
    "## Data Sample"
   ]
  },
  {
   "cell_type": "code",
   "execution_count": 7,
   "metadata": {
    "ExecuteTime": {
     "end_time": "2016-09-28T00:53:51.924730",
     "start_time": "2016-09-28T00:53:50.525989"
    },
    "collapsed": false,
    "extensions": {
     "jupyter_dashboards": {
      "version": 1,
      "views": {
       "grid_default": {},
       "report_default": {
        "hidden": false
       }
      }
     }
    },
    "nbpresent": {
     "id": "1e3d5ce2-782f-45ad-a015-07711bdf5ccc"
    },
    "slideshow": {
     "slide_type": "fragment"
    }
   },
   "outputs": [
    {
     "data": {
      "text/html": [
       "<div>\n",
       "<table border=\"1\" class=\"dataframe\">\n",
       "  <thead>\n",
       "    <tr style=\"text-align: right;\">\n",
       "      <th></th>\n",
       "      <th>post_id</th>\n",
       "      <th>name</th>\n",
       "      <th>number</th>\n",
       "      <th>oid</th>\n",
       "      <th>postdate</th>\n",
       "      <th>posterage</th>\n",
       "      <th>region</th>\n",
       "      <th>type</th>\n",
       "    </tr>\n",
       "  </thead>\n",
       "  <tbody>\n",
       "    <tr>\n",
       "      <th>0</th>\n",
       "      <td>0</td>\n",
       "      <td></td>\n",
       "      <td>6242414310</td>\n",
       "      <td>9635571</td>\n",
       "      <td>2015-11-28 12:00:00</td>\n",
       "      <td>19.0</td>\n",
       "      <td>birmingham</td>\n",
       "      <td>Datelines</td>\n",
       "    </tr>\n",
       "    <tr>\n",
       "      <th>1</th>\n",
       "      <td>1</td>\n",
       "      <td></td>\n",
       "      <td></td>\n",
       "      <td>13957915</td>\n",
       "      <td>2015-12-23 09:13:00</td>\n",
       "      <td>21.0</td>\n",
       "      <td>nashville</td>\n",
       "      <td>Datelines</td>\n",
       "    </tr>\n",
       "    <tr>\n",
       "      <th>2</th>\n",
       "      <td>3</td>\n",
       "      <td></td>\n",
       "      <td></td>\n",
       "      <td>33808981</td>\n",
       "      <td>2015-12-24 01:03:00</td>\n",
       "      <td>24.0</td>\n",
       "      <td>miami</td>\n",
       "      <td>Datelines</td>\n",
       "    </tr>\n",
       "    <tr>\n",
       "      <th>3</th>\n",
       "      <td>4</td>\n",
       "      <td></td>\n",
       "      <td>3059227034</td>\n",
       "      <td>32821362</td>\n",
       "      <td>2015-12-23 01:51:00</td>\n",
       "      <td>35.0</td>\n",
       "      <td>miami</td>\n",
       "      <td>FemaleEscorts</td>\n",
       "    </tr>\n",
       "    <tr>\n",
       "      <th>4</th>\n",
       "      <td>6</td>\n",
       "      <td></td>\n",
       "      <td>6242414310</td>\n",
       "      <td>16767542</td>\n",
       "      <td>2015-12-18 06:20:00</td>\n",
       "      <td>25.0</td>\n",
       "      <td>tampa</td>\n",
       "      <td>Datelines</td>\n",
       "    </tr>\n",
       "  </tbody>\n",
       "</table>\n",
       "</div>"
      ],
      "text/plain": [
       "  post_id name      number       oid            postdate  posterage  \\\n",
       "0       0       6242414310   9635571 2015-11-28 12:00:00       19.0   \n",
       "1       1                   13957915 2015-12-23 09:13:00       21.0   \n",
       "2       3                   33808981 2015-12-24 01:03:00       24.0   \n",
       "3       4       3059227034  32821362 2015-12-23 01:51:00       35.0   \n",
       "4       6       6242414310  16767542 2015-12-18 06:20:00       25.0   \n",
       "\n",
       "       region           type  \n",
       "0  birmingham      Datelines  \n",
       "1   nashville      Datelines  \n",
       "2       miami      Datelines  \n",
       "3       miami  FemaleEscorts  \n",
       "4       tampa      Datelines  "
      ]
     },
     "execution_count": 7,
     "metadata": {},
     "output_type": "execute_result"
    }
   ],
   "source": [
    "df = pd.read_csv(\n",
    "    'data/scraped_data.csv.gz',\n",
    "    converters={'name': lambda x: str(x).lower(),\n",
    "                'number': str,\n",
    "                'oid': str,\n",
    "                'post_id': str},\n",
    "    parse_dates=['postdate'])\n",
    "df.head()"
   ]
  },
  {
   "cell_type": "markdown",
   "metadata": {
    "extensions": {
     "jupyter_dashboards": {
      "version": 1,
      "views": {
       "grid_default": {},
       "report_default": {
        "hidden": false
       }
      }
     }
    },
    "slideshow": {
     "slide_type": "subslide"
    }
   },
   "source": [
    "## Data Description"
   ]
  },
  {
   "cell_type": "code",
   "execution_count": 28,
   "metadata": {
    "ExecuteTime": {
     "end_time": "2016-09-28T00:33:52.038773",
     "start_time": "2016-09-28T00:33:51.492593"
    },
    "collapsed": false,
    "extensions": {
     "jupyter_dashboards": {
      "version": 1,
      "views": {
       "grid_default": {},
       "report_default": {
        "hidden": false
       }
      }
     }
    },
    "slideshow": {
     "slide_type": "fragment"
    }
   },
   "outputs": [
    {
     "data": {
      "text/html": [
       "<div>\n",
       "<table border=\"1\" class=\"dataframe\">\n",
       "  <thead>\n",
       "    <tr style=\"text-align: right;\">\n",
       "      <th></th>\n",
       "      <th>post_id</th>\n",
       "      <th>name</th>\n",
       "      <th>number</th>\n",
       "      <th>oid</th>\n",
       "      <th>postdate</th>\n",
       "      <th>posterage</th>\n",
       "      <th>region</th>\n",
       "      <th>type</th>\n",
       "    </tr>\n",
       "  </thead>\n",
       "  <tbody>\n",
       "    <tr>\n",
       "      <th>count</th>\n",
       "      <td>232920</td>\n",
       "      <td>232920</td>\n",
       "      <td>232920</td>\n",
       "      <td>232920</td>\n",
       "      <td>232920</td>\n",
       "      <td>232868.000000</td>\n",
       "      <td>232920</td>\n",
       "      <td>232920</td>\n",
       "    </tr>\n",
       "    <tr>\n",
       "      <th>unique</th>\n",
       "      <td>232920</td>\n",
       "      <td>1319</td>\n",
       "      <td>21933</td>\n",
       "      <td>194721</td>\n",
       "      <td>84966</td>\n",
       "      <td>NaN</td>\n",
       "      <td>18</td>\n",
       "      <td>8</td>\n",
       "    </tr>\n",
       "    <tr>\n",
       "      <th>top</th>\n",
       "      <td>217189</td>\n",
       "      <td></td>\n",
       "      <td></td>\n",
       "      <td>21070057</td>\n",
       "      <td>2015-11-24 02:17:00</td>\n",
       "      <td>NaN</td>\n",
       "      <td>atlanta</td>\n",
       "      <td>FemaleEscorts</td>\n",
       "    </tr>\n",
       "    <tr>\n",
       "      <th>freq</th>\n",
       "      <td>1</td>\n",
       "      <td>228994</td>\n",
       "      <td>72361</td>\n",
       "      <td>110</td>\n",
       "      <td>112</td>\n",
       "      <td>NaN</td>\n",
       "      <td>98439</td>\n",
       "      <td>172444</td>\n",
       "    </tr>\n",
       "    <tr>\n",
       "      <th>first</th>\n",
       "      <td>NaN</td>\n",
       "      <td>NaN</td>\n",
       "      <td>NaN</td>\n",
       "      <td>NaN</td>\n",
       "      <td>2012-10-12 12:22:00</td>\n",
       "      <td>NaN</td>\n",
       "      <td>NaN</td>\n",
       "      <td>NaN</td>\n",
       "    </tr>\n",
       "    <tr>\n",
       "      <th>last</th>\n",
       "      <td>NaN</td>\n",
       "      <td>NaN</td>\n",
       "      <td>NaN</td>\n",
       "      <td>NaN</td>\n",
       "      <td>2016-02-28 12:59:00</td>\n",
       "      <td>NaN</td>\n",
       "      <td>NaN</td>\n",
       "      <td>NaN</td>\n",
       "    </tr>\n",
       "    <tr>\n",
       "      <th>mean</th>\n",
       "      <td>NaN</td>\n",
       "      <td>NaN</td>\n",
       "      <td>NaN</td>\n",
       "      <td>NaN</td>\n",
       "      <td>NaN</td>\n",
       "      <td>25.678316</td>\n",
       "      <td>NaN</td>\n",
       "      <td>NaN</td>\n",
       "    </tr>\n",
       "    <tr>\n",
       "      <th>std</th>\n",
       "      <td>NaN</td>\n",
       "      <td>NaN</td>\n",
       "      <td>NaN</td>\n",
       "      <td>NaN</td>\n",
       "      <td>NaN</td>\n",
       "      <td>8.096470</td>\n",
       "      <td>NaN</td>\n",
       "      <td>NaN</td>\n",
       "    </tr>\n",
       "    <tr>\n",
       "      <th>min</th>\n",
       "      <td>NaN</td>\n",
       "      <td>NaN</td>\n",
       "      <td>NaN</td>\n",
       "      <td>NaN</td>\n",
       "      <td>NaN</td>\n",
       "      <td>18.000000</td>\n",
       "      <td>NaN</td>\n",
       "      <td>NaN</td>\n",
       "    </tr>\n",
       "    <tr>\n",
       "      <th>25%</th>\n",
       "      <td>NaN</td>\n",
       "      <td>NaN</td>\n",
       "      <td>NaN</td>\n",
       "      <td>NaN</td>\n",
       "      <td>NaN</td>\n",
       "      <td>NaN</td>\n",
       "      <td>NaN</td>\n",
       "      <td>NaN</td>\n",
       "    </tr>\n",
       "    <tr>\n",
       "      <th>50%</th>\n",
       "      <td>NaN</td>\n",
       "      <td>NaN</td>\n",
       "      <td>NaN</td>\n",
       "      <td>NaN</td>\n",
       "      <td>NaN</td>\n",
       "      <td>NaN</td>\n",
       "      <td>NaN</td>\n",
       "      <td>NaN</td>\n",
       "    </tr>\n",
       "    <tr>\n",
       "      <th>75%</th>\n",
       "      <td>NaN</td>\n",
       "      <td>NaN</td>\n",
       "      <td>NaN</td>\n",
       "      <td>NaN</td>\n",
       "      <td>NaN</td>\n",
       "      <td>NaN</td>\n",
       "      <td>NaN</td>\n",
       "      <td>NaN</td>\n",
       "    </tr>\n",
       "    <tr>\n",
       "      <th>max</th>\n",
       "      <td>NaN</td>\n",
       "      <td>NaN</td>\n",
       "      <td>NaN</td>\n",
       "      <td>NaN</td>\n",
       "      <td>NaN</td>\n",
       "      <td>112.000000</td>\n",
       "      <td>NaN</td>\n",
       "      <td>NaN</td>\n",
       "    </tr>\n",
       "  </tbody>\n",
       "</table>\n",
       "</div>"
      ],
      "text/plain": [
       "       post_id    name  number       oid             postdate      posterage  \\\n",
       "count   232920  232920  232920    232920               232920  232868.000000   \n",
       "unique  232920    1319   21933    194721                84966            NaN   \n",
       "top     217189                  21070057  2015-11-24 02:17:00            NaN   \n",
       "freq         1  228994   72361       110                  112            NaN   \n",
       "first      NaN     NaN     NaN       NaN  2012-10-12 12:22:00            NaN   \n",
       "last       NaN     NaN     NaN       NaN  2016-02-28 12:59:00            NaN   \n",
       "mean       NaN     NaN     NaN       NaN                  NaN      25.678316   \n",
       "std        NaN     NaN     NaN       NaN                  NaN       8.096470   \n",
       "min        NaN     NaN     NaN       NaN                  NaN      18.000000   \n",
       "25%        NaN     NaN     NaN       NaN                  NaN            NaN   \n",
       "50%        NaN     NaN     NaN       NaN                  NaN            NaN   \n",
       "75%        NaN     NaN     NaN       NaN                  NaN            NaN   \n",
       "max        NaN     NaN     NaN       NaN                  NaN     112.000000   \n",
       "\n",
       "         region           type  \n",
       "count    232920         232920  \n",
       "unique       18              8  \n",
       "top     atlanta  FemaleEscorts  \n",
       "freq      98439         172444  \n",
       "first       NaN            NaN  \n",
       "last        NaN            NaN  \n",
       "mean        NaN            NaN  \n",
       "std         NaN            NaN  \n",
       "min         NaN            NaN  \n",
       "25%         NaN            NaN  \n",
       "50%         NaN            NaN  \n",
       "75%         NaN            NaN  \n",
       "max         NaN            NaN  "
      ]
     },
     "execution_count": 28,
     "metadata": {},
     "output_type": "execute_result"
    }
   ],
   "source": [
    "df.describe(include = 'all')"
   ]
  },
  {
   "cell_type": "markdown",
   "metadata": {
    "extensions": {
     "jupyter_dashboards": {
      "version": 1,
      "views": {
       "grid_default": {},
       "report_default": {
        "hidden": false
       }
      }
     }
    },
    "slideshow": {
     "slide_type": "slide"
    }
   },
   "source": [
    "# Entity Resolution\n",
    "\n",
    "After wrestling with the data a bit, we realized that we can conceptualize the data as a graph.\n",
    "\n",
    "##  Entity Graph\n",
    "- Vertices: Backpage posts\n",
    "- Edged: Common attributes (email, phone number, poster ID)\n"
   ]
  },
  {
   "cell_type": "markdown",
   "metadata": {
    "extensions": {
     "jupyter_dashboards": {
      "version": 1,
      "views": {
       "grid_default": {},
       "report_default": {
        "hidden": false
       }
      }
     }
    },
    "slideshow": {
     "slide_type": "subslide"
    }
   },
   "source": [
    "### Explore Subgraph Sizes"
   ]
  },
  {
   "cell_type": "code",
   "execution_count": 29,
   "metadata": {
    "ExecuteTime": {
     "end_time": "2016-09-28T00:33:52.178578",
     "start_time": "2016-09-28T00:33:52.040533"
    },
    "collapsed": false,
    "extensions": {
     "jupyter_dashboards": {
      "version": 1,
      "views": {
       "grid_default": {},
       "report_default": {
        "hidden": false
       }
      }
     }
    },
    "slideshow": {
     "slide_type": "fragment"
    }
   },
   "outputs": [
    {
     "data": {
      "text/html": [
       "<div>\n",
       "<table border=\"1\" class=\"dataframe\">\n",
       "  <thead>\n",
       "    <tr style=\"text-align: right;\">\n",
       "      <th></th>\n",
       "      <th>post_id</th>\n",
       "    </tr>\n",
       "    <tr>\n",
       "      <th>number</th>\n",
       "      <th></th>\n",
       "    </tr>\n",
       "  </thead>\n",
       "  <tbody>\n",
       "    <tr>\n",
       "      <th></th>\n",
       "      <td>72361</td>\n",
       "    </tr>\n",
       "    <tr>\n",
       "      <th>7863556827</th>\n",
       "      <td>1436</td>\n",
       "    </tr>\n",
       "    <tr>\n",
       "      <th>4047236489</th>\n",
       "      <td>1336</td>\n",
       "    </tr>\n",
       "    <tr>\n",
       "      <th>6242414310</th>\n",
       "      <td>1221</td>\n",
       "    </tr>\n",
       "    <tr>\n",
       "      <th>4044511961</th>\n",
       "      <td>945</td>\n",
       "    </tr>\n",
       "  </tbody>\n",
       "</table>\n",
       "</div>"
      ],
      "text/plain": [
       "            post_id\n",
       "number             \n",
       "              72361\n",
       "7863556827     1436\n",
       "4047236489     1336\n",
       "6242414310     1221\n",
       "4044511961      945"
      ]
     },
     "execution_count": 29,
     "metadata": {},
     "output_type": "execute_result"
    }
   ],
   "source": [
    "df\\\n",
    ".groupby('number')\\\n",
    ".count()\\\n",
    ".sort_values('post_id',ascending=False)[['post_id']]\\\n",
    ".head()"
   ]
  },
  {
   "cell_type": "markdown",
   "metadata": {
    "extensions": {
     "jupyter_dashboards": {
      "version": 1,
      "views": {
       "grid_default": {},
       "report_default": {
        "hidden": false
       }
      }
     }
    },
    "slideshow": {
     "slide_type": "subslide"
    }
   },
   "source": [
    "### Example Sub-Graph\n",
    "- One challenge is to efficiently create the sub graphs.\n",
    "- Our first approach was to make fully connected graph out of the data subsets.\n",
    "\n",
    "Here is an example of a phone number that is seen on 11 posts:"
   ]
  },
  {
   "cell_type": "code",
   "execution_count": 30,
   "metadata": {
    "ExecuteTime": {
     "end_time": "2016-09-28T00:33:52.224916",
     "start_time": "2016-09-28T00:33:52.185812"
    },
    "collapsed": false,
    "extensions": {
     "jupyter_dashboards": {
      "version": 1,
      "views": {
       "grid_default": {},
       "report_default": {
        "hidden": false
       }
      }
     }
    },
    "slideshow": {
     "slide_type": "fragment"
    }
   },
   "outputs": [
    {
     "data": {
      "text/html": [
       "<div>\n",
       "<table border=\"1\" class=\"dataframe\">\n",
       "  <thead>\n",
       "    <tr style=\"text-align: right;\">\n",
       "      <th></th>\n",
       "      <th>post_id</th>\n",
       "      <th>name</th>\n",
       "      <th>number</th>\n",
       "      <th>oid</th>\n",
       "      <th>postdate</th>\n",
       "      <th>posterage</th>\n",
       "      <th>region</th>\n",
       "      <th>type</th>\n",
       "    </tr>\n",
       "  </thead>\n",
       "  <tbody>\n",
       "    <tr>\n",
       "      <th>220676</th>\n",
       "      <td>221500</td>\n",
       "      <td>tucenicienta360@gmail.com</td>\n",
       "      <td>7865032020</td>\n",
       "      <td>26583449</td>\n",
       "      <td>2015-12-22 10:32:00</td>\n",
       "      <td>21.0</td>\n",
       "      <td>miami</td>\n",
       "      <td>FemaleEscorts</td>\n",
       "    </tr>\n",
       "    <tr>\n",
       "      <th>134390</th>\n",
       "      <td>134885</td>\n",
       "      <td>tucenicienta360@gmail.com</td>\n",
       "      <td>7865032020</td>\n",
       "      <td>26659871</td>\n",
       "      <td>2015-12-02 11:52:00</td>\n",
       "      <td>21.0</td>\n",
       "      <td>miami</td>\n",
       "      <td>FemaleEscorts</td>\n",
       "    </tr>\n",
       "    <tr>\n",
       "      <th>16418</th>\n",
       "      <td>16500</td>\n",
       "      <td>dallaz360@hotmail.com</td>\n",
       "      <td>7865032020</td>\n",
       "      <td>28354889</td>\n",
       "      <td>2015-12-05 04:57:00</td>\n",
       "      <td>22.0</td>\n",
       "      <td>miami</td>\n",
       "      <td>FemaleEscorts</td>\n",
       "    </tr>\n",
       "    <tr>\n",
       "      <th>2276</th>\n",
       "      <td>2304</td>\n",
       "      <td></td>\n",
       "      <td>7865032020</td>\n",
       "      <td>31811642</td>\n",
       "      <td>2015-12-19 10:44:00</td>\n",
       "      <td>25.0</td>\n",
       "      <td>miami</td>\n",
       "      <td>FemaleEscorts</td>\n",
       "    </tr>\n",
       "    <tr>\n",
       "      <th>177430</th>\n",
       "      <td>178083</td>\n",
       "      <td></td>\n",
       "      <td>7865032020</td>\n",
       "      <td>31857356</td>\n",
       "      <td>2015-12-16 09:53:00</td>\n",
       "      <td>24.0</td>\n",
       "      <td>miami</td>\n",
       "      <td>FemaleEscorts</td>\n",
       "    </tr>\n",
       "  </tbody>\n",
       "</table>\n",
       "</div>"
      ],
      "text/plain": [
       "       post_id                       name      number       oid  \\\n",
       "220676  221500  tucenicienta360@gmail.com  7865032020  26583449   \n",
       "134390  134885  tucenicienta360@gmail.com  7865032020  26659871   \n",
       "16418    16500      dallaz360@hotmail.com  7865032020  28354889   \n",
       "2276      2304                             7865032020  31811642   \n",
       "177430  178083                             7865032020  31857356   \n",
       "\n",
       "                  postdate  posterage region           type  \n",
       "220676 2015-12-22 10:32:00       21.0  miami  FemaleEscorts  \n",
       "134390 2015-12-02 11:52:00       21.0  miami  FemaleEscorts  \n",
       "16418  2015-12-05 04:57:00       22.0  miami  FemaleEscorts  \n",
       "2276   2015-12-19 10:44:00       25.0  miami  FemaleEscorts  \n",
       "177430 2015-12-16 09:53:00       24.0  miami  FemaleEscorts  "
      ]
     },
     "execution_count": 30,
     "metadata": {},
     "output_type": "execute_result"
    }
   ],
   "source": [
    "\n",
    "ph_sample = df[df.number=='7865032020']\n",
    "ph_sample.sort_values('name',ascending=False).head()"
   ]
  },
  {
   "cell_type": "markdown",
   "metadata": {
    "extensions": {
     "jupyter_dashboards": {
      "version": 1,
      "views": {
       "grid_default": {},
       "report_default": {
        "hidden": false
       }
      }
     }
    },
    "slideshow": {
     "slide_type": "subslide"
    }
   },
   "source": [
    "### Fully Connected\n",
    "\n",
    "#### Phone Numbers Only"
   ]
  },
  {
   "cell_type": "code",
   "execution_count": 54,
   "metadata": {
    "ExecuteTime": {
     "end_time": "2016-09-28T00:44:19.093317",
     "start_time": "2016-09-28T00:44:19.085719"
    },
    "collapsed": true,
    "slideshow": {
     "slide_type": "fragment"
    }
   },
   "outputs": [],
   "source": [
    "def plot_graph_data(in_data, data_type, color, G=nx.Graph()):\n",
    "    ''' Plot graph '''\n",
    "    out = []\n",
    "    for a, b in itertools.product(in_data, in_data):\n",
    "        out.append((a, b, {'type': data_type, 'color': color}))\n",
    "    G.add_edges_from(out)\n",
    "    pos = nx.circular_layout(G)\n",
    "    colors = [G[u][v]['color'] for u, v in G.edges()]\n",
    "    nx.draw(G, pos, node_color='k', edge_color=colors, width=2)\n",
    "    return G"
   ]
  },
  {
   "cell_type": "code",
   "execution_count": 67,
   "metadata": {
    "ExecuteTime": {
     "end_time": "2016-09-28T00:47:12.204823",
     "start_time": "2016-09-28T00:47:11.770769"
    },
    "collapsed": false,
    "extensions": {
     "jupyter_dashboards": {
      "version": 1,
      "views": {
       "grid_default": {},
       "report_default": {
        "hidden": false
       }
      }
     }
    },
    "slideshow": {
     "slide_type": "subslide"
    }
   },
   "outputs": [
    {
     "data": {
      "image/png": "[encoded data removed]",
      "text/plain": [
       "<matplotlib.figure.Figure at 0x116e39d90>"
      ]
     },
     "metadata": {},
     "output_type": "display_data"
    }
   ],
   "source": [
    "G_samp = plot_graph_data(ph_sample.post_id, 'phone', 'b', G=nx.Graph());"
   ]
  },
  {
   "cell_type": "markdown",
   "metadata": {
    "extensions": {
     "jupyter_dashboards": {
      "version": 1,
      "views": {
       "grid_default": {},
       "report_default": {
        "hidden": false
       }
      }
     }
    },
    "slideshow": {
     "slide_type": "subslide"
    }
   },
   "source": [
    "#### Email Addresses Only"
   ]
  },
  {
   "cell_type": "code",
   "execution_count": 32,
   "metadata": {
    "ExecuteTime": {
     "end_time": "2016-09-28T00:33:53.379598",
     "start_time": "2016-09-28T00:33:53.196140"
    },
    "collapsed": false,
    "extensions": {
     "jupyter_dashboards": {
      "version": 1,
      "views": {
       "grid_default": {},
       "report_default": {
        "hidden": false
       }
      }
     }
    },
    "slideshow": {
     "slide_type": "fragment"
    }
   },
   "outputs": [
    {
     "data": {
      "text/html": [
       "<div>\n",
       "<table border=\"1\" class=\"dataframe\">\n",
       "  <thead>\n",
       "    <tr style=\"text-align: right;\">\n",
       "      <th></th>\n",
       "      <th>post_id</th>\n",
       "      <th>name</th>\n",
       "      <th>number</th>\n",
       "      <th>oid</th>\n",
       "      <th>postdate</th>\n",
       "      <th>posterage</th>\n",
       "      <th>region</th>\n",
       "      <th>type</th>\n",
       "    </tr>\n",
       "  </thead>\n",
       "  <tbody>\n",
       "    <tr>\n",
       "      <th>2319</th>\n",
       "      <td>2347</td>\n",
       "      <td>tucenicienta360@gmail.com</td>\n",
       "      <td>7866505040</td>\n",
       "      <td>26588406</td>\n",
       "      <td>2015-12-22 10:27:00</td>\n",
       "      <td>22.0</td>\n",
       "      <td>miami</td>\n",
       "      <td>FemaleEscorts</td>\n",
       "    </tr>\n",
       "    <tr>\n",
       "      <th>2320</th>\n",
       "      <td>2348</td>\n",
       "      <td>tucenicienta360@gmail.comhref</td>\n",
       "      <td>7866505040</td>\n",
       "      <td>26588406</td>\n",
       "      <td>2015-12-22 10:27:00</td>\n",
       "      <td>22.0</td>\n",
       "      <td>miami</td>\n",
       "      <td>FemaleEscorts</td>\n",
       "    </tr>\n",
       "    <tr>\n",
       "      <th>104393</th>\n",
       "      <td>104780</td>\n",
       "      <td>tucenicienta360@gmail.com</td>\n",
       "      <td>7866505040</td>\n",
       "      <td>26577033</td>\n",
       "      <td>2015-12-14 01:38:00</td>\n",
       "      <td>22.0</td>\n",
       "      <td>miami</td>\n",
       "      <td>FemaleEscorts</td>\n",
       "    </tr>\n",
       "    <tr>\n",
       "      <th>134390</th>\n",
       "      <td>134885</td>\n",
       "      <td>tucenicienta360@gmail.com</td>\n",
       "      <td>7865032020</td>\n",
       "      <td>26659871</td>\n",
       "      <td>2015-12-02 11:52:00</td>\n",
       "      <td>21.0</td>\n",
       "      <td>miami</td>\n",
       "      <td>FemaleEscorts</td>\n",
       "    </tr>\n",
       "    <tr>\n",
       "      <th>220676</th>\n",
       "      <td>221500</td>\n",
       "      <td>tucenicienta360@gmail.com</td>\n",
       "      <td>7865032020</td>\n",
       "      <td>26583449</td>\n",
       "      <td>2015-12-22 10:32:00</td>\n",
       "      <td>21.0</td>\n",
       "      <td>miami</td>\n",
       "      <td>FemaleEscorts</td>\n",
       "    </tr>\n",
       "  </tbody>\n",
       "</table>\n",
       "</div>"
      ],
      "text/plain": [
       "       post_id                           name      number       oid  \\\n",
       "2319      2347      tucenicienta360@gmail.com  7866505040  26588406   \n",
       "2320      2348  tucenicienta360@gmail.comhref  7866505040  26588406   \n",
       "104393  104780      tucenicienta360@gmail.com  7866505040  26577033   \n",
       "134390  134885      tucenicienta360@gmail.com  7865032020  26659871   \n",
       "220676  221500      tucenicienta360@gmail.com  7865032020  26583449   \n",
       "\n",
       "                  postdate  posterage region           type  \n",
       "2319   2015-12-22 10:27:00       22.0  miami  FemaleEscorts  \n",
       "2320   2015-12-22 10:27:00       22.0  miami  FemaleEscorts  \n",
       "104393 2015-12-14 01:38:00       22.0  miami  FemaleEscorts  \n",
       "134390 2015-12-02 11:52:00       21.0  miami  FemaleEscorts  \n",
       "220676 2015-12-22 10:32:00       21.0  miami  FemaleEscorts  "
      ]
     },
     "execution_count": 32,
     "metadata": {},
     "output_type": "execute_result"
    }
   ],
   "source": [
    "em_sample = df[df['name'].str.contains('tuc',False)]\n",
    "em_sample"
   ]
  },
  {
   "cell_type": "code",
   "execution_count": 68,
   "metadata": {
    "ExecuteTime": {
     "end_time": "2016-09-28T00:47:16.901643",
     "start_time": "2016-09-28T00:47:16.594895"
    },
    "collapsed": false,
    "extensions": {
     "jupyter_dashboards": {
      "version": 1,
      "views": {
       "grid_default": {},
       "report_default": {
        "hidden": false
       }
      }
     }
    },
    "slideshow": {
     "slide_type": "subslide"
    }
   },
   "outputs": [
    {
     "data": {
      "image/png": "[encoded data removed]",
      "text/plain": [
       "<matplotlib.figure.Figure at 0x116deb890>"
      ]
     },
     "metadata": {},
     "output_type": "display_data"
    }
   ],
   "source": [
    "G_samp_em = plot_graph_data(em_sample.post_id, 'email', 'r', G=nx.Graph())"
   ]
  },
  {
   "cell_type": "markdown",
   "metadata": {
    "extensions": {
     "jupyter_dashboards": {
      "version": 1,
      "views": {
       "grid_default": {},
       "report_default": {
        "hidden": false
       }
      }
     }
    },
    "slideshow": {
     "slide_type": "subslide"
    }
   },
   "source": [
    "#### Combined Graph with Email and Phone Numbers"
   ]
  },
  {
   "cell_type": "code",
   "execution_count": 70,
   "metadata": {
    "ExecuteTime": {
     "end_time": "2016-09-28T00:47:23.574105",
     "start_time": "2016-09-28T00:47:23.210473"
    },
    "collapsed": false,
    "extensions": {
     "jupyter_dashboards": {
      "version": 1,
      "views": {
       "grid_default": {},
       "report_default": {
        "hidden": false
       }
      }
     }
    },
    "slideshow": {
     "slide_type": "fragment"
    }
   },
   "outputs": [
    {
     "data": {
      "image/png": "[encoded data removed]",
      "text/plain": [
       "<matplotlib.figure.Figure at 0x126be0450>"
      ]
     },
     "metadata": {},
     "output_type": "display_data"
    }
   ],
   "source": [
    "out = []\n",
    "for a, b in itertools.product(em_sample.post_id, em_sample.post_id):\n",
    "    out.append((a, b, {'type': 'email', 'color': 'r'}))\n",
    "    \n",
    "G_samp.add_edges_from(out)\n",
    "pos = nx.spring_layout(G_samp)\n",
    "colors = [G_samp[u][v]['color'] for u, v in G_samp.edges()]\n",
    "nx.draw(G_samp, pos, node_color='k', edge_color=colors, width=2)"
   ]
  },
  {
   "cell_type": "markdown",
   "metadata": {
    "extensions": {
     "jupyter_dashboards": {
      "version": 1,
      "views": {
       "grid_default": {},
       "report_default": {
        "hidden": false
       }
      }
     }
    },
    "slideshow": {
     "slide_type": "subslide"
    }
   },
   "source": [
    "### Simplifying The Graph\n",
    "\n",
    "- This works, but having a fully connected set of graphs ends up taking a bunch of Memory.\n",
    "- To simplify, we only need each network of posts to be connected--__not__ fully connected.\n",
    "- Create a sub-graph that is a loosely connected loop instead."
   ]
  },
  {
   "cell_type": "code",
   "execution_count": 71,
   "metadata": {
    "ExecuteTime": {
     "end_time": "2016-09-28T00:47:28.309014",
     "start_time": "2016-09-28T00:47:28.298011"
    },
    "collapsed": false,
    "extensions": {
     "jupyter_dashboards": {
      "version": 1,
      "views": {
       "grid_default": {},
       "report_default": {
        "hidden": false
       }
      }
     }
    },
    "slideshow": {
     "slide_type": "fragment"
    }
   },
   "outputs": [],
   "source": [
    "G_samp_loop = nx.Graph()\n",
    "\n",
    "# No product for loop\n",
    "v = ph_sample.post_id.values.tolist()\n",
    "v_right = v[1:]\n",
    "if len(v) == 1:\n",
    "    v_right = v\n",
    "else:\n",
    "    v_right[-1] = v[0]\n",
    "out = [(a, b,{'type':'phone','color':'b'}) for a, b in zip(v, v_right)]\n",
    "\n",
    "G_samp_loop.add_edges_from(out)\n",
    "pos = nx.spectral_layout(G_samp_loop)\n",
    "\n",
    "\n",
    "colors = [G_samp_loop[u][v]['color'] for u,v in G_samp_loop.edges()]"
   ]
  },
  {
   "cell_type": "code",
   "execution_count": 72,
   "metadata": {
    "ExecuteTime": {
     "end_time": "2016-09-28T00:47:29.027361",
     "start_time": "2016-09-28T00:47:28.706638"
    },
    "collapsed": false,
    "slideshow": {
     "slide_type": "subslide"
    }
   },
   "outputs": [
    {
     "data": {
      "image/png": "[encoded data removed]",
      "text/plain": [
       "<matplotlib.figure.Figure at 0x129cb0c50>"
      ]
     },
     "metadata": {},
     "output_type": "display_data"
    }
   ],
   "source": [
    "nx.draw(G_samp_loop,pos,node_color='k',edge_color=colors,width=2)"
   ]
  },
  {
   "cell_type": "code",
   "execution_count": 73,
   "metadata": {
    "ExecuteTime": {
     "end_time": "2016-09-28T00:47:44.012013",
     "start_time": "2016-09-28T00:47:43.683864"
    },
    "collapsed": false,
    "extensions": {
     "jupyter_dashboards": {
      "version": 1,
      "views": {
       "grid_default": {},
       "report_default": {
        "hidden": false
       }
      }
     }
    },
    "slideshow": {
     "slide_type": "subslide"
    }
   },
   "outputs": [
    {
     "data": {
      "image/png": "[encoded data removed]",
      "text/plain": [
       "<matplotlib.figure.Figure at 0x11e970810>"
      ]
     },
     "metadata": {},
     "output_type": "display_data"
    }
   ],
   "source": [
    "v = em_sample.post_id.values.tolist()\n",
    "v_right = v[1:]\n",
    "if len(v) == 1:\n",
    "    v_right = v\n",
    "else:\n",
    "    v_right[-1] = v[0]\n",
    "out += [(a, b,{'type':'phone','color':'r'}) for a, b in zip(v, v_right)]\n",
    "\n",
    "G_samp_loop.add_edges_from(out)\n",
    "pos = nx.spring_layout(G_samp_loop)\n",
    "\n",
    "colors = [G_samp_loop[u][v]['color'] for u,v in G_samp_loop.edges()]\n",
    "nx.draw(G_samp_loop,pos,node_color='k',edge_color=colors,width=2)"
   ]
  },
  {
   "cell_type": "markdown",
   "metadata": {
    "extensions": {
     "jupyter_dashboards": {
      "version": 1,
      "views": {
       "grid_default": {},
       "report_default": {
        "hidden": false
       }
      }
     }
    },
    "slideshow": {
     "slide_type": "subslide"
    }
   },
   "source": [
    "\n",
    "## Graph Clusters\n",
    "When viewed this way, a set of connected posts (vertices) and poster attributes (edges) constitute an entity.\n",
    "\n",
    "## Approach\n",
    "1. Make a graph out of the data using these ideas\n",
    "1. Find all of the disjoint subgraphs and designate those as entities"
   ]
  },
  {
   "cell_type": "code",
   "execution_count": 37,
   "metadata": {
    "ExecuteTime": {
     "end_time": "2016-09-28T00:33:57.325810",
     "start_time": "2016-09-28T00:33:57.317249"
    },
    "collapsed": false,
    "extensions": {
     "jupyter_dashboards": {
      "version": 1,
      "views": {
       "grid_default": {},
       "report_default": {
        "hidden": true
       }
      }
     }
    },
    "nbpresent": {
     "id": "90d8633e-11b1-4d70-866d-483e88575b7b"
    },
    "slideshow": {
     "slide_type": "fragment"
    }
   },
   "outputs": [],
   "source": [
    "def make_graph(df, color, data_type):\n",
    "    '''\n",
    "    Makes a list of tuple lists for each node-edge-node segment in the graph\n",
    "    '''\n",
    "    out = []\n",
    "    for i, (k, v) in enumerate(df.groupby(df.columns[-1])):\n",
    "        \n",
    "        v = v.values.tolist()\n",
    "        v = [x[0] for x in v]\n",
    "        v_right = v[1:]\n",
    "        if len(v) == 1:\n",
    "            v_right = v\n",
    "        else:\n",
    "            v_right[-1] = v[0]\n",
    "        out.append([(a, b, {'type': data_type,\n",
    "                            'color': color}) for a, b in zip(v, v_right)])\n",
    "    out = [item for sublist in out for item in sublist]\n",
    "    return out"
   ]
  },
  {
   "cell_type": "markdown",
   "metadata": {
    "extensions": {
     "jupyter_dashboards": {
      "version": 1,
      "views": {
       "grid_default": {},
       "report_default": {
        "hidden": false
       }
      }
     }
    },
    "slideshow": {
     "slide_type": "subslide"
    }
   },
   "source": [
    "### Add Graphs for Each Type of Connection"
   ]
  },
  {
   "cell_type": "code",
   "execution_count": 38,
   "metadata": {
    "ExecuteTime": {
     "end_time": "2016-09-28T00:34:20.794745",
     "start_time": "2016-09-28T00:33:57.327350"
    },
    "collapsed": false,
    "extensions": {
     "jupyter_dashboards": {
      "version": 1,
      "views": {
       "grid_default": {},
       "report_default": {
        "hidden": true
       }
      }
     }
    },
    "slideshow": {
     "slide_type": "fragment"
    }
   },
   "outputs": [],
   "source": [
    "out = make_graph(df[df.name!=''][['post_id','name']],'r','email')\n",
    "out += make_graph(df[df.number!=''][['post_id','number']],'b','number')\n",
    "out += make_graph(df[df.oid!=''][['post_id','oid']],'g','oid')"
   ]
  },
  {
   "cell_type": "markdown",
   "metadata": {
    "extensions": {
     "jupyter_dashboards": {
      "version": 1,
      "views": {
       "grid_default": {},
       "report_default": {
        "hidden": false
       }
      }
     }
    },
    "slideshow": {
     "slide_type": "subslide"
    }
   },
   "source": [
    "### Use NetworkX to Find Disjoint SubGraphs"
   ]
  },
  {
   "cell_type": "code",
   "execution_count": 39,
   "metadata": {
    "ExecuteTime": {
     "end_time": "2016-09-28T00:34:30.794284",
     "start_time": "2016-09-28T00:34:20.796218"
    },
    "collapsed": false,
    "extensions": {
     "jupyter_dashboards": {
      "version": 1,
      "views": {
       "grid_default": {},
       "report_default": {
        "hidden": true
       }
      }
     }
    },
    "nbpresent": {
     "id": "e37d6a48-cde1-4886-acef-e4ab16d3356b"
    },
    "slideshow": {
     "slide_type": "fragment"
    }
   },
   "outputs": [],
   "source": [
    "G = nx.Graph()\n",
    "G.add_edges_from(out)\n",
    "\n",
    "sub_graphs = []\n",
    "for i, x in enumerate(nx.connected_component_subgraphs(G)):\n",
    "    nodes = nx.nodes(x)\n",
    "    sub_graphs.append(list(zip([i] * len(nodes), nodes)))\n",
    "\n",
    "sub_graphs = [item for sublist in sub_graphs for item in sublist]\n",
    "\n"
   ]
  },
  {
   "cell_type": "markdown",
   "metadata": {
    "extensions": {
     "jupyter_dashboards": {
      "version": 1,
      "views": {
       "grid_default": {},
       "report_default": {
        "hidden": false
       }
      }
     }
    },
    "slideshow": {
     "slide_type": "subslide"
    }
   },
   "source": [
    "### Check Entity Data"
   ]
  },
  {
   "cell_type": "code",
   "execution_count": 40,
   "metadata": {
    "ExecuteTime": {
     "end_time": "2016-09-28T00:34:30.852342",
     "start_time": "2016-09-28T00:34:30.795736"
    },
    "collapsed": false,
    "extensions": {
     "jupyter_dashboards": {
      "version": 1,
      "views": {
       "grid_default": {},
       "report_default": {
        "hidden": true
       }
      }
     }
    },
    "nbpresent": {
     "id": "2641eb1c-ffda-44fd-99e2-27e496f10829"
    },
    "slideshow": {
     "slide_type": "fragment"
    }
   },
   "outputs": [
    {
     "data": {
      "text/html": [
       "<div>\n",
       "<table border=\"1\" class=\"dataframe\">\n",
       "  <thead>\n",
       "    <tr style=\"text-align: right;\">\n",
       "      <th></th>\n",
       "      <th>entity_id</th>\n",
       "      <th>post_id</th>\n",
       "    </tr>\n",
       "  </thead>\n",
       "  <tbody>\n",
       "    <tr>\n",
       "      <th>0</th>\n",
       "      <td>0</td>\n",
       "      <td>228056</td>\n",
       "    </tr>\n",
       "    <tr>\n",
       "      <th>1</th>\n",
       "      <td>1</td>\n",
       "      <td>228051</td>\n",
       "    </tr>\n",
       "    <tr>\n",
       "      <th>2</th>\n",
       "      <td>2</td>\n",
       "      <td>228050</td>\n",
       "    </tr>\n",
       "    <tr>\n",
       "      <th>3</th>\n",
       "      <td>3</td>\n",
       "      <td>228053</td>\n",
       "    </tr>\n",
       "    <tr>\n",
       "      <th>4</th>\n",
       "      <td>4</td>\n",
       "      <td>228052</td>\n",
       "    </tr>\n",
       "    <tr>\n",
       "      <th>5</th>\n",
       "      <td>5</td>\n",
       "      <td>90828</td>\n",
       "    </tr>\n",
       "    <tr>\n",
       "      <th>6</th>\n",
       "      <td>5</td>\n",
       "      <td>134739</td>\n",
       "    </tr>\n",
       "    <tr>\n",
       "      <th>7</th>\n",
       "      <td>5</td>\n",
       "      <td>228059</td>\n",
       "    </tr>\n",
       "    <tr>\n",
       "      <th>8</th>\n",
       "      <td>5</td>\n",
       "      <td>65347</td>\n",
       "    </tr>\n",
       "    <tr>\n",
       "      <th>9</th>\n",
       "      <td>5</td>\n",
       "      <td>6603</td>\n",
       "    </tr>\n",
       "  </tbody>\n",
       "</table>\n",
       "</div>"
      ],
      "text/plain": [
       "   entity_id post_id\n",
       "0          0  228056\n",
       "1          1  228051\n",
       "2          2  228050\n",
       "3          3  228053\n",
       "4          4  228052\n",
       "5          5   90828\n",
       "6          5  134739\n",
       "7          5  228059\n",
       "8          5   65347\n",
       "9          5    6603"
      ]
     },
     "execution_count": 40,
     "metadata": {},
     "output_type": "execute_result"
    }
   ],
   "source": [
    "df_out = pd.DataFrame(sub_graphs,\n",
    "                      columns=['entity_id',\n",
    "                               'post_id'])\n",
    "df_out.head(10)"
   ]
  },
  {
   "cell_type": "markdown",
   "metadata": {
    "extensions": {
     "jupyter_dashboards": {
      "version": 1,
      "views": {
       "grid_default": {},
       "report_default": {
        "hidden": false
       }
      }
     }
    },
    "slideshow": {
     "slide_type": "subslide"
    }
   },
   "source": [
    "### Merge With Original Data\n",
    "\n",
    "And we are done..."
   ]
  },
  {
   "cell_type": "code",
   "execution_count": 41,
   "metadata": {
    "ExecuteTime": {
     "end_time": "2016-09-28T00:34:31.487610",
     "start_time": "2016-09-28T00:34:30.853701"
    },
    "collapsed": false,
    "extensions": {
     "jupyter_dashboards": {
      "version": 1,
      "views": {
       "grid_default": {},
       "report_default": {
        "hidden": true
       }
      }
     }
    },
    "nbpresent": {
     "id": "034440b7-192c-4ddb-ae9c-24b1be8a3e2f"
    },
    "slideshow": {
     "slide_type": "fragment"
    }
   },
   "outputs": [
    {
     "data": {
      "text/html": [
       "<div>\n",
       "<table border=\"1\" class=\"dataframe\">\n",
       "  <thead>\n",
       "    <tr style=\"text-align: right;\">\n",
       "      <th></th>\n",
       "      <th></th>\n",
       "      <th></th>\n",
       "      <th></th>\n",
       "      <th>post_id</th>\n",
       "      <th>postdate</th>\n",
       "      <th>posterage</th>\n",
       "      <th>region</th>\n",
       "      <th>type</th>\n",
       "    </tr>\n",
       "    <tr>\n",
       "      <th>entity_id</th>\n",
       "      <th>number</th>\n",
       "      <th>name</th>\n",
       "      <th>oid</th>\n",
       "      <th></th>\n",
       "      <th></th>\n",
       "      <th></th>\n",
       "      <th></th>\n",
       "      <th></th>\n",
       "    </tr>\n",
       "  </thead>\n",
       "  <tbody>\n",
       "    <tr>\n",
       "      <th>0</th>\n",
       "      <th></th>\n",
       "      <th></th>\n",
       "      <th>19170225</th>\n",
       "      <td>228056</td>\n",
       "      <td>2016-02-27 12:45:00</td>\n",
       "      <td>23.0</td>\n",
       "      <td>tampa</td>\n",
       "      <td>FemaleEscorts</td>\n",
       "    </tr>\n",
       "    <tr>\n",
       "      <th>1</th>\n",
       "      <th>8132700180</th>\n",
       "      <th></th>\n",
       "      <th>19122423</th>\n",
       "      <td>228051</td>\n",
       "      <td>2016-02-24 07:44:00</td>\n",
       "      <td>26.0</td>\n",
       "      <td>tampa</td>\n",
       "      <td>TranssexualEscorts</td>\n",
       "    </tr>\n",
       "    <tr>\n",
       "      <th>2</th>\n",
       "      <th>7277127655</th>\n",
       "      <th></th>\n",
       "      <th>14116170</th>\n",
       "      <td>228050</td>\n",
       "      <td>2016-02-24 12:18:00</td>\n",
       "      <td>62.0</td>\n",
       "      <td>tampa</td>\n",
       "      <td>Domination</td>\n",
       "    </tr>\n",
       "    <tr>\n",
       "      <th>3</th>\n",
       "      <th>8136662555</th>\n",
       "      <th></th>\n",
       "      <th>17199891</th>\n",
       "      <td>228053</td>\n",
       "      <td>2016-02-25 03:22:00</td>\n",
       "      <td>22.0</td>\n",
       "      <td>tampa</td>\n",
       "      <td>TranssexualEscorts</td>\n",
       "    </tr>\n",
       "    <tr>\n",
       "      <th>4</th>\n",
       "      <th>7273419926</th>\n",
       "      <th></th>\n",
       "      <th>11032214</th>\n",
       "      <td>228052</td>\n",
       "      <td>2016-02-27 10:25:00</td>\n",
       "      <td>99.0</td>\n",
       "      <td>tampa</td>\n",
       "      <td>TranssexualEscorts</td>\n",
       "    </tr>\n",
       "    <tr>\n",
       "      <th rowspan=\"5\" valign=\"top\">5</th>\n",
       "      <th rowspan=\"5\" valign=\"top\">8133476501</th>\n",
       "      <th rowspan=\"5\" valign=\"top\"></th>\n",
       "      <th>14028137</th>\n",
       "      <td>90828</td>\n",
       "      <td>2015-12-22 09:27:00</td>\n",
       "      <td>25.0</td>\n",
       "      <td>tampa</td>\n",
       "      <td>FemaleEscorts</td>\n",
       "    </tr>\n",
       "    <tr>\n",
       "      <th>16283312</th>\n",
       "      <td>134739</td>\n",
       "      <td>2015-12-23 01:10:00</td>\n",
       "      <td>25.0</td>\n",
       "      <td>tampa</td>\n",
       "      <td>FemaleEscorts</td>\n",
       "    </tr>\n",
       "    <tr>\n",
       "      <th>14028137</th>\n",
       "      <td>228059</td>\n",
       "      <td>2016-02-27 03:14:00</td>\n",
       "      <td>26.0</td>\n",
       "      <td>tampa</td>\n",
       "      <td>FemaleEscorts</td>\n",
       "    </tr>\n",
       "    <tr>\n",
       "      <th>16283312</th>\n",
       "      <td>65347</td>\n",
       "      <td>2016-02-02 02:10:00</td>\n",
       "      <td>26.0</td>\n",
       "      <td>tampa</td>\n",
       "      <td>BodyRubs</td>\n",
       "    </tr>\n",
       "    <tr>\n",
       "      <th>14028137</th>\n",
       "      <td>6603</td>\n",
       "      <td>2016-02-02 12:54:00</td>\n",
       "      <td>26.0</td>\n",
       "      <td>tampa</td>\n",
       "      <td>Domination</td>\n",
       "    </tr>\n",
       "  </tbody>\n",
       "</table>\n",
       "</div>"
      ],
      "text/plain": [
       "                                   post_id            postdate  posterage  \\\n",
       "entity_id number     name oid                                               \n",
       "0                         19170225  228056 2016-02-27 12:45:00       23.0   \n",
       "1         8132700180      19122423  228051 2016-02-24 07:44:00       26.0   \n",
       "2         7277127655      14116170  228050 2016-02-24 12:18:00       62.0   \n",
       "3         8136662555      17199891  228053 2016-02-25 03:22:00       22.0   \n",
       "4         7273419926      11032214  228052 2016-02-27 10:25:00       99.0   \n",
       "5         8133476501      14028137   90828 2015-12-22 09:27:00       25.0   \n",
       "                          16283312  134739 2015-12-23 01:10:00       25.0   \n",
       "                          14028137  228059 2016-02-27 03:14:00       26.0   \n",
       "                          16283312   65347 2016-02-02 02:10:00       26.0   \n",
       "                          14028137    6603 2016-02-02 12:54:00       26.0   \n",
       "\n",
       "                                   region                type  \n",
       "entity_id number     name oid                                  \n",
       "0                         19170225  tampa       FemaleEscorts  \n",
       "1         8132700180      19122423  tampa  TranssexualEscorts  \n",
       "2         7277127655      14116170  tampa          Domination  \n",
       "3         8136662555      17199891  tampa  TranssexualEscorts  \n",
       "4         7273419926      11032214  tampa  TranssexualEscorts  \n",
       "5         8133476501      14028137  tampa       FemaleEscorts  \n",
       "                          16283312  tampa       FemaleEscorts  \n",
       "                          14028137  tampa       FemaleEscorts  \n",
       "                          16283312  tampa            BodyRubs  \n",
       "                          14028137  tampa          Domination  "
      ]
     },
     "execution_count": 41,
     "metadata": {},
     "output_type": "execute_result"
    }
   ],
   "source": [
    "\n",
    "df_out = df_out.merge(df,on='post_id')\n",
    "df_out.set_index(['entity_id','number','name','oid'],inplace=True)\n",
    "df_out.head(10)"
   ]
  },
  {
   "cell_type": "markdown",
   "metadata": {
    "extensions": {
     "jupyter_dashboards": {
      "version": 1,
      "views": {
       "grid_default": {},
       "report_default": {
        "hidden": false
       }
      }
     }
    },
    "slideshow": {
     "slide_type": "slide"
    }
   },
   "source": [
    "# Check Results\n",
    "\n",
    "## Check Email"
   ]
  },
  {
   "cell_type": "code",
   "execution_count": 42,
   "metadata": {
    "ExecuteTime": {
     "end_time": "2016-09-28T00:34:31.523687",
     "start_time": "2016-09-28T00:34:31.489343"
    },
    "collapsed": false,
    "extensions": {
     "jupyter_dashboards": {
      "version": 1,
      "views": {
       "grid_default": {},
       "report_default": {
        "hidden": true
       }
      }
     }
    },
    "nbpresent": {
     "id": "e31bd28d-c79b-4ef9-a1d6-5c0390534da9"
    },
    "slideshow": {
     "slide_type": "fragment"
    }
   },
   "outputs": [
    {
     "data": {
      "text/html": [
       "<div>\n",
       "<table border=\"1\" class=\"dataframe\">\n",
       "  <thead>\n",
       "    <tr style=\"text-align: right;\">\n",
       "      <th></th>\n",
       "      <th></th>\n",
       "      <th></th>\n",
       "      <th>post_id</th>\n",
       "      <th>postdate</th>\n",
       "      <th>posterage</th>\n",
       "      <th>region</th>\n",
       "      <th>type</th>\n",
       "    </tr>\n",
       "    <tr>\n",
       "      <th>entity_id</th>\n",
       "      <th>number</th>\n",
       "      <th>oid</th>\n",
       "      <th></th>\n",
       "      <th></th>\n",
       "      <th></th>\n",
       "      <th></th>\n",
       "      <th></th>\n",
       "    </tr>\n",
       "  </thead>\n",
       "  <tbody>\n",
       "    <tr>\n",
       "      <th rowspan=\"4\" valign=\"top\">560</th>\n",
       "      <th>7866505040</th>\n",
       "      <th>26588406</th>\n",
       "      <td>2347</td>\n",
       "      <td>2015-12-22 10:27:00</td>\n",
       "      <td>22.0</td>\n",
       "      <td>miami</td>\n",
       "      <td>FemaleEscorts</td>\n",
       "    </tr>\n",
       "    <tr>\n",
       "      <th rowspan=\"2\" valign=\"top\">7865032020</th>\n",
       "      <th>26659871</th>\n",
       "      <td>134885</td>\n",
       "      <td>2015-12-02 11:52:00</td>\n",
       "      <td>21.0</td>\n",
       "      <td>miami</td>\n",
       "      <td>FemaleEscorts</td>\n",
       "    </tr>\n",
       "    <tr>\n",
       "      <th>26583449</th>\n",
       "      <td>221500</td>\n",
       "      <td>2015-12-22 10:32:00</td>\n",
       "      <td>21.0</td>\n",
       "      <td>miami</td>\n",
       "      <td>FemaleEscorts</td>\n",
       "    </tr>\n",
       "    <tr>\n",
       "      <th>7866505040</th>\n",
       "      <th>26577033</th>\n",
       "      <td>104780</td>\n",
       "      <td>2015-12-14 01:38:00</td>\n",
       "      <td>22.0</td>\n",
       "      <td>miami</td>\n",
       "      <td>FemaleEscorts</td>\n",
       "    </tr>\n",
       "  </tbody>\n",
       "</table>\n",
       "</div>"
      ],
      "text/plain": [
       "                              post_id            postdate  posterage region  \\\n",
       "entity_id number     oid                                                      \n",
       "560       7866505040 26588406    2347 2015-12-22 10:27:00       22.0  miami   \n",
       "          7865032020 26659871  134885 2015-12-02 11:52:00       21.0  miami   \n",
       "                     26583449  221500 2015-12-22 10:32:00       21.0  miami   \n",
       "          7866505040 26577033  104780 2015-12-14 01:38:00       22.0  miami   \n",
       "\n",
       "                                        type  \n",
       "entity_id number     oid                      \n",
       "560       7866505040 26588406  FemaleEscorts  \n",
       "          7865032020 26659871  FemaleEscorts  \n",
       "                     26583449  FemaleEscorts  \n",
       "          7866505040 26577033  FemaleEscorts  "
      ]
     },
     "execution_count": 42,
     "metadata": {},
     "output_type": "execute_result"
    }
   ],
   "source": [
    "df_out.xs('tucenicienta360@gmail.com',level='name')"
   ]
  },
  {
   "cell_type": "code",
   "execution_count": 43,
   "metadata": {
    "ExecuteTime": {
     "end_time": "2016-09-28T00:34:31.530197",
     "start_time": "2016-09-28T00:34:31.525287"
    },
    "collapsed": false,
    "extensions": {
     "jupyter_dashboards": {
      "version": 1,
      "views": {
       "grid_default": {},
       "report_default": {
        "hidden": false
       }
      }
     }
    },
    "slideshow": {
     "slide_type": "fragment"
    }
   },
   "outputs": [
    {
     "data": {
      "text/plain": [
       "{'104780': {'color': 'g', 'type': 'oid'},\n",
       " '104876': {'color': 'b', 'type': 'number'},\n",
       " '134885': {'color': 'r', 'type': 'email'},\n",
       " '2347': {'color': 'r', 'type': 'email'},\n",
       " '46482': {'color': 'b', 'type': 'number'}}"
      ]
     },
     "execution_count": 43,
     "metadata": {},
     "output_type": "execute_result"
    }
   ],
   "source": [
    "G['104780']"
   ]
  },
  {
   "cell_type": "markdown",
   "metadata": {
    "extensions": {
     "jupyter_dashboards": {
      "version": 1,
      "views": {
       "grid_default": {},
       "report_default": {
        "hidden": false
       }
      }
     }
    },
    "slideshow": {
     "slide_type": "subslide"
    }
   },
   "source": [
    "## Check Entity"
   ]
  },
  {
   "cell_type": "code",
   "execution_count": 44,
   "metadata": {
    "ExecuteTime": {
     "end_time": "2016-09-28T00:34:31.586885",
     "start_time": "2016-09-28T00:34:31.531574"
    },
    "collapsed": false,
    "extensions": {
     "jupyter_dashboards": {
      "version": 1,
      "views": {
       "grid_default": {},
       "report_default": {
        "hidden": true
       }
      }
     }
    },
    "nbpresent": {
     "id": "987b99ff-bd8a-440b-8d16-99a28f3c1b26"
    },
    "slideshow": {
     "slide_type": "fragment"
    }
   },
   "outputs": [
    {
     "data": {
      "text/html": [
       "<div>\n",
       "<table border=\"1\" class=\"dataframe\">\n",
       "  <thead>\n",
       "    <tr style=\"text-align: right;\">\n",
       "      <th></th>\n",
       "      <th></th>\n",
       "      <th></th>\n",
       "      <th>post_id</th>\n",
       "      <th>postdate</th>\n",
       "      <th>posterage</th>\n",
       "      <th>region</th>\n",
       "      <th>type</th>\n",
       "    </tr>\n",
       "    <tr>\n",
       "      <th>number</th>\n",
       "      <th>name</th>\n",
       "      <th>oid</th>\n",
       "      <th></th>\n",
       "      <th></th>\n",
       "      <th></th>\n",
       "      <th></th>\n",
       "      <th></th>\n",
       "    </tr>\n",
       "  </thead>\n",
       "  <tbody>\n",
       "    <tr>\n",
       "      <th rowspan=\"39\" valign=\"top\">7865032020</th>\n",
       "      <th rowspan=\"36\" valign=\"top\"></th>\n",
       "      <th>26577332</th>\n",
       "      <td>90113</td>\n",
       "      <td>2015-12-08 05:25:00</td>\n",
       "      <td>24.0</td>\n",
       "      <td>miami</td>\n",
       "      <td>FemaleEscorts</td>\n",
       "    </tr>\n",
       "    <tr>\n",
       "      <th>27978380</th>\n",
       "      <td>31818</td>\n",
       "      <td>2015-12-22 12:56:00</td>\n",
       "      <td>22.0</td>\n",
       "      <td>miami</td>\n",
       "      <td>FemaleEscorts</td>\n",
       "    </tr>\n",
       "    <tr>\n",
       "      <th>28372705</th>\n",
       "      <td>20101</td>\n",
       "      <td>2016-01-08 02:16:00</td>\n",
       "      <td>22.0</td>\n",
       "      <td>miami</td>\n",
       "      <td>TranssexualEscorts</td>\n",
       "    </tr>\n",
       "    <tr>\n",
       "      <th>28561650</th>\n",
       "      <td>52095</td>\n",
       "      <td>2016-01-25 10:17:00</td>\n",
       "      <td>24.0</td>\n",
       "      <td>miami</td>\n",
       "      <td>FemaleEscorts</td>\n",
       "    </tr>\n",
       "    <tr>\n",
       "      <th>28561650</th>\n",
       "      <td>147990</td>\n",
       "      <td>2015-12-22 10:29:00</td>\n",
       "      <td>24.0</td>\n",
       "      <td>tampa</td>\n",
       "      <td>FemaleEscorts</td>\n",
       "    </tr>\n",
       "    <tr>\n",
       "      <th>31300988</th>\n",
       "      <td>122688</td>\n",
       "      <td>2016-01-18 10:59:00</td>\n",
       "      <td>23.0</td>\n",
       "      <td>miami</td>\n",
       "      <td>FemaleEscorts</td>\n",
       "    </tr>\n",
       "    <tr>\n",
       "      <th>31300988</th>\n",
       "      <td>207134</td>\n",
       "      <td>2015-12-24 10:34:00</td>\n",
       "      <td>23.0</td>\n",
       "      <td>miami</td>\n",
       "      <td>FemaleEscorts</td>\n",
       "    </tr>\n",
       "    <tr>\n",
       "      <th>31467113</th>\n",
       "      <td>2406</td>\n",
       "      <td>2015-12-24 10:27:00</td>\n",
       "      <td>22.0</td>\n",
       "      <td>miami</td>\n",
       "      <td>FemaleEscorts</td>\n",
       "    </tr>\n",
       "    <tr>\n",
       "      <th>31810842</th>\n",
       "      <td>2409</td>\n",
       "      <td>2015-12-24 10:32:00</td>\n",
       "      <td>24.0</td>\n",
       "      <td>miami</td>\n",
       "      <td>FemaleEscorts</td>\n",
       "    </tr>\n",
       "    <tr>\n",
       "      <th>31811642</th>\n",
       "      <td>2304</td>\n",
       "      <td>2015-12-19 10:44:00</td>\n",
       "      <td>25.0</td>\n",
       "      <td>miami</td>\n",
       "      <td>FemaleEscorts</td>\n",
       "    </tr>\n",
       "    <tr>\n",
       "      <th>31814749</th>\n",
       "      <td>163166</td>\n",
       "      <td>2015-12-02 11:54:00</td>\n",
       "      <td>24.0</td>\n",
       "      <td>miami</td>\n",
       "      <td>FemaleEscorts</td>\n",
       "    </tr>\n",
       "    <tr>\n",
       "      <th>31831488</th>\n",
       "      <td>134051</td>\n",
       "      <td>2015-12-18 12:52:00</td>\n",
       "      <td>23.0</td>\n",
       "      <td>miami</td>\n",
       "      <td>FemaleEscorts</td>\n",
       "    </tr>\n",
       "    <tr>\n",
       "      <th>31837041</th>\n",
       "      <td>221367</td>\n",
       "      <td>2015-12-05 04:52:00</td>\n",
       "      <td>25.0</td>\n",
       "      <td>miami</td>\n",
       "      <td>FemaleEscorts</td>\n",
       "    </tr>\n",
       "    <tr>\n",
       "      <th>31837101</th>\n",
       "      <td>119466</td>\n",
       "      <td>2015-12-17 02:56:00</td>\n",
       "      <td>24.0</td>\n",
       "      <td>miami</td>\n",
       "      <td>FemaleEscorts</td>\n",
       "    </tr>\n",
       "    <tr>\n",
       "      <th>31837906</th>\n",
       "      <td>163315</td>\n",
       "      <td>2015-12-18 11:00:00</td>\n",
       "      <td>22.0</td>\n",
       "      <td>miami</td>\n",
       "      <td>FemaleEscorts</td>\n",
       "    </tr>\n",
       "    <tr>\n",
       "      <th>31838170</th>\n",
       "      <td>46451</td>\n",
       "      <td>2015-12-22 10:30:00</td>\n",
       "      <td>23.0</td>\n",
       "      <td>miami</td>\n",
       "      <td>FemaleEscorts</td>\n",
       "    </tr>\n",
       "    <tr>\n",
       "      <th>31854569</th>\n",
       "      <td>119535</td>\n",
       "      <td>2015-12-23 11:52:00</td>\n",
       "      <td>23.0</td>\n",
       "      <td>miami</td>\n",
       "      <td>FemaleEscorts</td>\n",
       "    </tr>\n",
       "    <tr>\n",
       "      <th>31855380</th>\n",
       "      <td>75795</td>\n",
       "      <td>2015-12-22 01:12:00</td>\n",
       "      <td>24.0</td>\n",
       "      <td>miami</td>\n",
       "      <td>FemaleEscorts</td>\n",
       "    </tr>\n",
       "    <tr>\n",
       "      <th>31856096</th>\n",
       "      <td>163422</td>\n",
       "      <td>2015-12-24 10:27:00</td>\n",
       "      <td>23.0</td>\n",
       "      <td>miami</td>\n",
       "      <td>FemaleEscorts</td>\n",
       "    </tr>\n",
       "    <tr>\n",
       "      <th>31856922</th>\n",
       "      <td>31784</td>\n",
       "      <td>2015-12-19 11:52:00</td>\n",
       "      <td>25.0</td>\n",
       "      <td>miami</td>\n",
       "      <td>FemaleEscorts</td>\n",
       "    </tr>\n",
       "    <tr>\n",
       "      <th>31857356</th>\n",
       "      <td>178083</td>\n",
       "      <td>2015-12-16 09:53:00</td>\n",
       "      <td>24.0</td>\n",
       "      <td>miami</td>\n",
       "      <td>FemaleEscorts</td>\n",
       "    </tr>\n",
       "    <tr>\n",
       "      <th>31862500</th>\n",
       "      <td>195857</td>\n",
       "      <td>2016-01-15 05:24:00</td>\n",
       "      <td>24.0</td>\n",
       "      <td>miami</td>\n",
       "      <td>FemaleEscorts</td>\n",
       "    </tr>\n",
       "    <tr>\n",
       "      <th>31862500</th>\n",
       "      <td>221467</td>\n",
       "      <td>2015-12-19 02:31:00</td>\n",
       "      <td>24.0</td>\n",
       "      <td>miami</td>\n",
       "      <td>FemaleEscorts</td>\n",
       "    </tr>\n",
       "    <tr>\n",
       "      <th>31864686</th>\n",
       "      <td>124252</td>\n",
       "      <td>2016-02-13 03:57:00</td>\n",
       "      <td>24.0</td>\n",
       "      <td>miami</td>\n",
       "      <td>FemaleEscorts</td>\n",
       "    </tr>\n",
       "    <tr>\n",
       "      <th>31864686</th>\n",
       "      <td>221544</td>\n",
       "      <td>2015-12-24 10:33:00</td>\n",
       "      <td>24.0</td>\n",
       "      <td>miami</td>\n",
       "      <td>FemaleEscorts</td>\n",
       "    </tr>\n",
       "    <tr>\n",
       "      <th>31878332</th>\n",
       "      <td>134159</td>\n",
       "      <td>2015-12-24 10:33:00</td>\n",
       "      <td>24.0</td>\n",
       "      <td>miami</td>\n",
       "      <td>FemaleEscorts</td>\n",
       "    </tr>\n",
       "    <tr>\n",
       "      <th>33495618</th>\n",
       "      <td>206457</td>\n",
       "      <td>2015-12-08 05:23:00</td>\n",
       "      <td>22.0</td>\n",
       "      <td>miami</td>\n",
       "      <td>BodyRubs</td>\n",
       "    </tr>\n",
       "    <tr>\n",
       "      <th>33889430</th>\n",
       "      <td>138814</td>\n",
       "      <td>2016-02-13 03:58:00</td>\n",
       "      <td>23.0</td>\n",
       "      <td>miami</td>\n",
       "      <td>FemaleEscorts</td>\n",
       "    </tr>\n",
       "    <tr>\n",
       "      <th>33889430</th>\n",
       "      <td>148610</td>\n",
       "      <td>2015-12-23 11:48:00</td>\n",
       "      <td>23.0</td>\n",
       "      <td>miami</td>\n",
       "      <td>FemaleEscorts</td>\n",
       "    </tr>\n",
       "    <tr>\n",
       "      <th>33889585</th>\n",
       "      <td>61000</td>\n",
       "      <td>2015-12-21 10:35:00</td>\n",
       "      <td>22.0</td>\n",
       "      <td>miami</td>\n",
       "      <td>FemaleEscorts</td>\n",
       "    </tr>\n",
       "    <tr>\n",
       "      <th>...</th>\n",
       "      <td>...</td>\n",
       "      <td>...</td>\n",
       "      <td>...</td>\n",
       "      <td>...</td>\n",
       "      <td>...</td>\n",
       "    </tr>\n",
       "    <tr>\n",
       "      <th>...</th>\n",
       "      <td>192610</td>\n",
       "      <td>2015-12-08 05:24:00</td>\n",
       "      <td>21.0</td>\n",
       "      <td>miami</td>\n",
       "      <td>FemaleEscorts</td>\n",
       "    </tr>\n",
       "    <tr>\n",
       "      <th>34172650</th>\n",
       "      <td>60936</td>\n",
       "      <td>2015-12-16 04:29:00</td>\n",
       "      <td>22.0</td>\n",
       "      <td>miami</td>\n",
       "      <td>FemaleEscorts</td>\n",
       "    </tr>\n",
       "    <tr>\n",
       "      <th>34172870</th>\n",
       "      <td>181047</td>\n",
       "      <td>2016-01-16 10:03:00</td>\n",
       "      <td>22.0</td>\n",
       "      <td>miami</td>\n",
       "      <td>FemaleEscorts</td>\n",
       "    </tr>\n",
       "    <tr>\n",
       "      <th>35289414</th>\n",
       "      <td>45955</td>\n",
       "      <td>2015-12-24 10:32:00</td>\n",
       "      <td>22.0</td>\n",
       "      <td>miami</td>\n",
       "      <td>BodyRubs</td>\n",
       "    </tr>\n",
       "    <tr>\n",
       "      <th>35289414</th>\n",
       "      <td>22751</td>\n",
       "      <td>2016-02-10 01:38:00</td>\n",
       "      <td>23.0</td>\n",
       "      <td>miami</td>\n",
       "      <td>FemaleEscorts</td>\n",
       "    </tr>\n",
       "    <tr>\n",
       "      <th></th>\n",
       "      <th>36808973</th>\n",
       "      <td>16500</td>\n",
       "      <td>2015-12-05 04:57:00</td>\n",
       "      <td>22.0</td>\n",
       "      <td>miami</td>\n",
       "      <td>FemaleEscorts</td>\n",
       "    </tr>\n",
       "    <tr>\n",
       "      <th rowspan=\"2\" valign=\"top\">dallaz360@hotmail.com</th>\n",
       "      <th>28354889</th>\n",
       "      <td>221500</td>\n",
       "      <td>2015-12-22 10:32:00</td>\n",
       "      <td>21.0</td>\n",
       "      <td>miami</td>\n",
       "      <td>FemaleEscorts</td>\n",
       "    </tr>\n",
       "    <tr>\n",
       "      <th>26583449</th>\n",
       "      <td>134885</td>\n",
       "      <td>2015-12-02 11:52:00</td>\n",
       "      <td>21.0</td>\n",
       "      <td>miami</td>\n",
       "      <td>FemaleEscorts</td>\n",
       "    </tr>\n",
       "    <tr>\n",
       "      <th rowspan=\"22\" valign=\"top\">7865032020</th>\n",
       "      <th rowspan=\"19\" valign=\"top\">tucenicienta360@gmail.com</th>\n",
       "      <th>26659871</th>\n",
       "      <td>20100</td>\n",
       "      <td>2016-01-08 02:16:00</td>\n",
       "      <td>22.0</td>\n",
       "      <td>miami</td>\n",
       "      <td>TranssexualEscorts</td>\n",
       "    </tr>\n",
       "    <tr>\n",
       "      <th>28372705</th>\n",
       "      <td>16562</td>\n",
       "      <td>2015-12-17 11:28:00</td>\n",
       "      <td>23.0</td>\n",
       "      <td>miami</td>\n",
       "      <td>BodyRubs</td>\n",
       "    </tr>\n",
       "    <tr>\n",
       "      <th>28384098</th>\n",
       "      <td>119485</td>\n",
       "      <td>2015-12-19 11:51:00</td>\n",
       "      <td>22.0</td>\n",
       "      <td>miami</td>\n",
       "      <td>FemaleEscorts</td>\n",
       "    </tr>\n",
       "    <tr>\n",
       "      <th>31331761</th>\n",
       "      <td>206968</td>\n",
       "      <td>2015-12-09 10:51:00</td>\n",
       "      <td>24.0</td>\n",
       "      <td>miami</td>\n",
       "      <td>FemaleEscorts</td>\n",
       "    </tr>\n",
       "    <tr>\n",
       "      <th>31811398</th>\n",
       "      <td>207132</td>\n",
       "      <td>2015-12-24 10:35:00</td>\n",
       "      <td>23.0</td>\n",
       "      <td>miami</td>\n",
       "      <td>FemaleEscorts</td>\n",
       "    </tr>\n",
       "    <tr>\n",
       "      <th>31828798</th>\n",
       "      <td>148590</td>\n",
       "      <td>2015-12-22 10:30:00</td>\n",
       "      <td>24.0</td>\n",
       "      <td>miami</td>\n",
       "      <td>FemaleEscorts</td>\n",
       "    </tr>\n",
       "    <tr>\n",
       "      <th>31831778</th>\n",
       "      <td>46453</td>\n",
       "      <td>2015-12-22 12:56:00</td>\n",
       "      <td>24.0</td>\n",
       "      <td>miami</td>\n",
       "      <td>FemaleEscorts</td>\n",
       "    </tr>\n",
       "    <tr>\n",
       "      <th>31835789</th>\n",
       "      <td>46482</td>\n",
       "      <td>2015-12-23 02:42:00</td>\n",
       "      <td>23.0</td>\n",
       "      <td>miami</td>\n",
       "      <td>FemaleEscorts</td>\n",
       "    </tr>\n",
       "    <tr>\n",
       "      <th>31840012</th>\n",
       "      <td>104876</td>\n",
       "      <td>2015-12-23 02:47:00</td>\n",
       "      <td>22.0</td>\n",
       "      <td>miami</td>\n",
       "      <td>FemaleEscorts</td>\n",
       "    </tr>\n",
       "    <tr>\n",
       "      <th>31859247</th>\n",
       "      <td>163356</td>\n",
       "      <td>2015-12-21 02:21:00</td>\n",
       "      <td>23.0</td>\n",
       "      <td>miami</td>\n",
       "      <td>FemaleEscorts</td>\n",
       "    </tr>\n",
       "    <tr>\n",
       "      <th>31860900</th>\n",
       "      <td>46455</td>\n",
       "      <td>2015-12-22 01:16:00</td>\n",
       "      <td>23.0</td>\n",
       "      <td>miami</td>\n",
       "      <td>FemaleEscorts</td>\n",
       "    </tr>\n",
       "    <tr>\n",
       "      <th>31861445</th>\n",
       "      <td>8089</td>\n",
       "      <td>2016-02-15 10:00:00</td>\n",
       "      <td>24.0</td>\n",
       "      <td>miami</td>\n",
       "      <td>FemaleEscorts</td>\n",
       "    </tr>\n",
       "    <tr>\n",
       "      <th>31878332</th>\n",
       "      <td>207109</td>\n",
       "      <td>2015-12-23 02:46:00</td>\n",
       "      <td>22.0</td>\n",
       "      <td>miami</td>\n",
       "      <td>FemaleEscorts</td>\n",
       "    </tr>\n",
       "    <tr>\n",
       "      <th>33889131</th>\n",
       "      <td>154122</td>\n",
       "      <td>2016-02-09 10:27:00</td>\n",
       "      <td>24.0</td>\n",
       "      <td>miami</td>\n",
       "      <td>FemaleEscorts</td>\n",
       "    </tr>\n",
       "    <tr>\n",
       "      <th>34148294</th>\n",
       "      <td>134114</td>\n",
       "      <td>2015-12-22 12:57:00</td>\n",
       "      <td>24.0</td>\n",
       "      <td>miami</td>\n",
       "      <td>FemaleEscorts</td>\n",
       "    </tr>\n",
       "    <tr>\n",
       "      <th>34148294</th>\n",
       "      <td>2332</td>\n",
       "      <td>2015-12-21 04:59:00</td>\n",
       "      <td>20.0</td>\n",
       "      <td>miami</td>\n",
       "      <td>FemaleEscorts</td>\n",
       "    </tr>\n",
       "    <tr>\n",
       "      <th>34148521</th>\n",
       "      <td>2287</td>\n",
       "      <td>2015-12-17 03:30:00</td>\n",
       "      <td>21.0</td>\n",
       "      <td>miami</td>\n",
       "      <td>FemaleEscorts</td>\n",
       "    </tr>\n",
       "    <tr>\n",
       "      <th>34155477</th>\n",
       "      <td>207033</td>\n",
       "      <td>2015-12-18 10:52:00</td>\n",
       "      <td>23.0</td>\n",
       "      <td>miami</td>\n",
       "      <td>FemaleEscorts</td>\n",
       "    </tr>\n",
       "    <tr>\n",
       "      <th>34172765</th>\n",
       "      <td>207092</td>\n",
       "      <td>2015-12-22 10:28:00</td>\n",
       "      <td>24.0</td>\n",
       "      <td>miami</td>\n",
       "      <td>FemaleEscorts</td>\n",
       "    </tr>\n",
       "    <tr>\n",
       "      <th rowspan=\"2\" valign=\"top\"></th>\n",
       "      <th>34172970</th>\n",
       "      <td>104780</td>\n",
       "      <td>2015-12-14 01:38:00</td>\n",
       "      <td>22.0</td>\n",
       "      <td>miami</td>\n",
       "      <td>FemaleEscorts</td>\n",
       "    </tr>\n",
       "    <tr>\n",
       "      <th>26577033</th>\n",
       "      <td>2347</td>\n",
       "      <td>2015-12-22 10:27:00</td>\n",
       "      <td>22.0</td>\n",
       "      <td>miami</td>\n",
       "      <td>FemaleEscorts</td>\n",
       "    </tr>\n",
       "    <tr>\n",
       "      <th>tucenicienta360@gmail.com</th>\n",
       "      <th>26588406</th>\n",
       "      <td>2348</td>\n",
       "      <td>2015-12-22 10:27:00</td>\n",
       "      <td>22.0</td>\n",
       "      <td>miami</td>\n",
       "      <td>FemaleEscorts</td>\n",
       "    </tr>\n",
       "  </tbody>\n",
       "</table>\n",
       "<p>67 rows × 5 columns</p>\n",
       "</div>"
      ],
      "text/plain": [
       "                                                  post_id            postdate  \\\n",
       "number     name                          oid                                    \n",
       "7865032020                               26577332   90113 2015-12-08 05:25:00   \n",
       "                                         27978380   31818 2015-12-22 12:56:00   \n",
       "                                         28372705   20101 2016-01-08 02:16:00   \n",
       "                                         28561650   52095 2016-01-25 10:17:00   \n",
       "                                         28561650  147990 2015-12-22 10:29:00   \n",
       "                                         31300988  122688 2016-01-18 10:59:00   \n",
       "                                         31300988  207134 2015-12-24 10:34:00   \n",
       "                                         31467113    2406 2015-12-24 10:27:00   \n",
       "                                         31810842    2409 2015-12-24 10:32:00   \n",
       "                                         31811642    2304 2015-12-19 10:44:00   \n",
       "                                         31814749  163166 2015-12-02 11:54:00   \n",
       "                                         31831488  134051 2015-12-18 12:52:00   \n",
       "                                         31837041  221367 2015-12-05 04:52:00   \n",
       "                                         31837101  119466 2015-12-17 02:56:00   \n",
       "                                         31837906  163315 2015-12-18 11:00:00   \n",
       "                                         31838170   46451 2015-12-22 10:30:00   \n",
       "                                         31854569  119535 2015-12-23 11:52:00   \n",
       "                                         31855380   75795 2015-12-22 01:12:00   \n",
       "                                         31856096  163422 2015-12-24 10:27:00   \n",
       "                                         31856922   31784 2015-12-19 11:52:00   \n",
       "                                         31857356  178083 2015-12-16 09:53:00   \n",
       "                                         31862500  195857 2016-01-15 05:24:00   \n",
       "                                         31862500  221467 2015-12-19 02:31:00   \n",
       "                                         31864686  124252 2016-02-13 03:57:00   \n",
       "                                         31864686  221544 2015-12-24 10:33:00   \n",
       "                                         31878332  134159 2015-12-24 10:33:00   \n",
       "                                         33495618  206457 2015-12-08 05:23:00   \n",
       "                                         33889430  138814 2016-02-13 03:58:00   \n",
       "                                         33889430  148610 2015-12-23 11:48:00   \n",
       "                                         33889585   61000 2015-12-21 10:35:00   \n",
       "...                                                   ...                 ...   \n",
       "                                         34172650  192610 2015-12-08 05:24:00   \n",
       "                                         34172870   60936 2015-12-16 04:29:00   \n",
       "                                         35289414  181047 2016-01-16 10:03:00   \n",
       "                                         35289414   45955 2015-12-24 10:32:00   \n",
       "                                         36808973   22751 2016-02-10 01:38:00   \n",
       "           dallaz360@hotmail.com         28354889   16500 2015-12-05 04:57:00   \n",
       "           tucenicienta360@gmail.com     26583449  221500 2015-12-22 10:32:00   \n",
       "                                         26659871  134885 2015-12-02 11:52:00   \n",
       "7866505040                               28372705   20100 2016-01-08 02:16:00   \n",
       "                                         28384098   16562 2015-12-17 11:28:00   \n",
       "                                         31331761  119485 2015-12-19 11:51:00   \n",
       "                                         31811398  206968 2015-12-09 10:51:00   \n",
       "                                         31828798  207132 2015-12-24 10:35:00   \n",
       "                                         31831778  148590 2015-12-22 10:30:00   \n",
       "                                         31835789   46453 2015-12-22 12:56:00   \n",
       "                                         31840012   46482 2015-12-23 02:42:00   \n",
       "                                         31859247  104876 2015-12-23 02:47:00   \n",
       "                                         31860900  163356 2015-12-21 02:21:00   \n",
       "                                         31861445   46455 2015-12-22 01:16:00   \n",
       "                                         31878332    8089 2016-02-15 10:00:00   \n",
       "                                         33889131  207109 2015-12-23 02:46:00   \n",
       "                                         34148294  154122 2016-02-09 10:27:00   \n",
       "                                         34148294  134114 2015-12-22 12:57:00   \n",
       "                                         34148521    2332 2015-12-21 04:59:00   \n",
       "                                         34155477    2287 2015-12-17 03:30:00   \n",
       "                                         34172765  207033 2015-12-18 10:52:00   \n",
       "                                         34172970  207092 2015-12-22 10:28:00   \n",
       "           tucenicienta360@gmail.com     26577033  104780 2015-12-14 01:38:00   \n",
       "                                         26588406    2347 2015-12-22 10:27:00   \n",
       "           tucenicienta360@gmail.comhref 26588406    2348 2015-12-22 10:27:00   \n",
       "\n",
       "                                                   posterage region  \\\n",
       "number     name                          oid                          \n",
       "7865032020                               26577332       24.0  miami   \n",
       "                                         27978380       22.0  miami   \n",
       "                                         28372705       22.0  miami   \n",
       "                                         28561650       24.0  miami   \n",
       "                                         28561650       24.0  tampa   \n",
       "                                         31300988       23.0  miami   \n",
       "                                         31300988       23.0  miami   \n",
       "                                         31467113       22.0  miami   \n",
       "                                         31810842       24.0  miami   \n",
       "                                         31811642       25.0  miami   \n",
       "                                         31814749       24.0  miami   \n",
       "                                         31831488       23.0  miami   \n",
       "                                         31837041       25.0  miami   \n",
       "                                         31837101       24.0  miami   \n",
       "                                         31837906       22.0  miami   \n",
       "                                         31838170       23.0  miami   \n",
       "                                         31854569       23.0  miami   \n",
       "                                         31855380       24.0  miami   \n",
       "                                         31856096       23.0  miami   \n",
       "                                         31856922       25.0  miami   \n",
       "                                         31857356       24.0  miami   \n",
       "                                         31862500       24.0  miami   \n",
       "                                         31862500       24.0  miami   \n",
       "                                         31864686       24.0  miami   \n",
       "                                         31864686       24.0  miami   \n",
       "                                         31878332       24.0  miami   \n",
       "                                         33495618       22.0  miami   \n",
       "                                         33889430       23.0  miami   \n",
       "                                         33889430       23.0  miami   \n",
       "                                         33889585       22.0  miami   \n",
       "...                                                      ...    ...   \n",
       "                                         34172650       21.0  miami   \n",
       "                                         34172870       22.0  miami   \n",
       "                                         35289414       22.0  miami   \n",
       "                                         35289414       22.0  miami   \n",
       "                                         36808973       23.0  miami   \n",
       "           dallaz360@hotmail.com         28354889       22.0  miami   \n",
       "           tucenicienta360@gmail.com     26583449       21.0  miami   \n",
       "                                         26659871       21.0  miami   \n",
       "7866505040                               28372705       22.0  miami   \n",
       "                                         28384098       23.0  miami   \n",
       "                                         31331761       22.0  miami   \n",
       "                                         31811398       24.0  miami   \n",
       "                                         31828798       23.0  miami   \n",
       "                                         31831778       24.0  miami   \n",
       "                                         31835789       24.0  miami   \n",
       "                                         31840012       23.0  miami   \n",
       "                                         31859247       22.0  miami   \n",
       "                                         31860900       23.0  miami   \n",
       "                                         31861445       23.0  miami   \n",
       "                                         31878332       24.0  miami   \n",
       "                                         33889131       22.0  miami   \n",
       "                                         34148294       24.0  miami   \n",
       "                                         34148294       24.0  miami   \n",
       "                                         34148521       20.0  miami   \n",
       "                                         34155477       21.0  miami   \n",
       "                                         34172765       23.0  miami   \n",
       "                                         34172970       24.0  miami   \n",
       "           tucenicienta360@gmail.com     26577033       22.0  miami   \n",
       "                                         26588406       22.0  miami   \n",
       "           tucenicienta360@gmail.comhref 26588406       22.0  miami   \n",
       "\n",
       "                                                                 type  \n",
       "number     name                          oid                           \n",
       "7865032020                               26577332       FemaleEscorts  \n",
       "                                         27978380       FemaleEscorts  \n",
       "                                         28372705  TranssexualEscorts  \n",
       "                                         28561650       FemaleEscorts  \n",
       "                                         28561650       FemaleEscorts  \n",
       "                                         31300988       FemaleEscorts  \n",
       "                                         31300988       FemaleEscorts  \n",
       "                                         31467113       FemaleEscorts  \n",
       "                                         31810842       FemaleEscorts  \n",
       "                                         31811642       FemaleEscorts  \n",
       "                                         31814749       FemaleEscorts  \n",
       "                                         31831488       FemaleEscorts  \n",
       "                                         31837041       FemaleEscorts  \n",
       "                                         31837101       FemaleEscorts  \n",
       "                                         31837906       FemaleEscorts  \n",
       "                                         31838170       FemaleEscorts  \n",
       "                                         31854569       FemaleEscorts  \n",
       "                                         31855380       FemaleEscorts  \n",
       "                                         31856096       FemaleEscorts  \n",
       "                                         31856922       FemaleEscorts  \n",
       "                                         31857356       FemaleEscorts  \n",
       "                                         31862500       FemaleEscorts  \n",
       "                                         31862500       FemaleEscorts  \n",
       "                                         31864686       FemaleEscorts  \n",
       "                                         31864686       FemaleEscorts  \n",
       "                                         31878332       FemaleEscorts  \n",
       "                                         33495618            BodyRubs  \n",
       "                                         33889430       FemaleEscorts  \n",
       "                                         33889430       FemaleEscorts  \n",
       "                                         33889585       FemaleEscorts  \n",
       "...                                                               ...  \n",
       "                                         34172650       FemaleEscorts  \n",
       "                                         34172870       FemaleEscorts  \n",
       "                                         35289414       FemaleEscorts  \n",
       "                                         35289414            BodyRubs  \n",
       "                                         36808973       FemaleEscorts  \n",
       "           dallaz360@hotmail.com         28354889       FemaleEscorts  \n",
       "           tucenicienta360@gmail.com     26583449       FemaleEscorts  \n",
       "                                         26659871       FemaleEscorts  \n",
       "7866505040                               28372705  TranssexualEscorts  \n",
       "                                         28384098            BodyRubs  \n",
       "                                         31331761       FemaleEscorts  \n",
       "                                         31811398       FemaleEscorts  \n",
       "                                         31828798       FemaleEscorts  \n",
       "                                         31831778       FemaleEscorts  \n",
       "                                         31835789       FemaleEscorts  \n",
       "                                         31840012       FemaleEscorts  \n",
       "                                         31859247       FemaleEscorts  \n",
       "                                         31860900       FemaleEscorts  \n",
       "                                         31861445       FemaleEscorts  \n",
       "                                         31878332       FemaleEscorts  \n",
       "                                         33889131       FemaleEscorts  \n",
       "                                         34148294       FemaleEscorts  \n",
       "                                         34148294       FemaleEscorts  \n",
       "                                         34148521       FemaleEscorts  \n",
       "                                         34155477       FemaleEscorts  \n",
       "                                         34172765       FemaleEscorts  \n",
       "                                         34172970       FemaleEscorts  \n",
       "           tucenicienta360@gmail.com     26577033       FemaleEscorts  \n",
       "                                         26588406       FemaleEscorts  \n",
       "           tucenicienta360@gmail.comhref 26588406       FemaleEscorts  \n",
       "\n",
       "[67 rows x 5 columns]"
      ]
     },
     "execution_count": 44,
     "metadata": {},
     "output_type": "execute_result"
    }
   ],
   "source": [
    "df_out.loc[560].sort_index()"
   ]
  },
  {
   "cell_type": "code",
   "execution_count": 53,
   "metadata": {
    "ExecuteTime": {
     "end_time": "2016-09-28T00:38:04.165700",
     "start_time": "2016-09-28T00:38:03.327977"
    },
    "collapsed": false,
    "extensions": {
     "jupyter_dashboards": {
      "version": 1,
      "views": {
       "grid_default": {},
       "report_default": {
        "hidden": false
       }
      }
     }
    },
    "slideshow": {
     "slide_type": "subslide"
    }
   },
   "outputs": [
    {
     "data": {
      "image/png": "[encoded data removed]",
      "text/plain": [
       "<matplotlib.figure.Figure at 0x12da7ab50>"
      ]
     },
     "metadata": {},
     "output_type": "display_data"
    }
   ],
   "source": [
    "G_check = G.subgraph(df_out.loc[560].post_id.values)\n",
    "\n",
    "pos = nx.spring_layout(G_check)\n",
    "\n",
    "\n",
    "colors = [G_check[u][v]['color'] for u,v in G_check.edges()]\n",
    "nx.draw(G_check,pos,node_color='k',edge_color=colors,width=2)"
   ]
  },
  {
   "cell_type": "code",
   "execution_count": null,
   "metadata": {
    "collapsed": true,
    "extensions": {
     "jupyter_dashboards": {
      "version": 1,
      "views": {
       "grid_default": {},
       "report_default": {
        "hidden": true
       }
      }
     }
    }
   },
   "outputs": [],
   "source": []
  }
 ],
 "metadata": {
  "anaconda-cloud": {},
  "celltoolbar": "Slideshow",
  "extensions": {
   "jupyter_dashboards": {
    "activeView": "report_default",
    "version": 1,
    "views": {
     "grid_default": {
      "cellMargin": 10,
      "defaultCellHeight": 20,
      "maxColumns": 12,
      "name": "grid",
      "type": "grid"
     },
     "report_default": {
      "name": "report",
      "type": "report"
     }
    }
   }
  },
  "hide_input": false,
  "kernelspec": {
   "display_name": "Python [Root]",
   "language": "python",
   "name": "Python [Root]"
  },
  "language_info": {
   "codemirror_mode": {
    "name": "ipython",
    "version": 2
   },
   "file_extension": ".py",
   "mimetype": "text/x-python",
   "name": "python",
   "nbconvert_exporter": "python",
   "pygments_lexer": "ipython2",
   "version": "2.7.9"
  },
  "latex_envs": {
   "bibliofile": "biblio.bib",
   "cite_by": "apalike",
   "current_citInitial": 1,
   "eqLabelWithNumbers": true,
   "eqNumInitial": 0
  },
  "nav_menu": {},
  "nbpresent": {
   "slides": {
    "441ed416-3689-47ed-87ca-bbead46dd109": {
     "id": "441ed416-3689-47ed-87ca-bbead46dd109",
     "prev": "d299296d-2575-416b-b0fa-4b98eb7cc2c7",
     "regions": {
      "99492b18-3a5c-4452-9335-99d6e5d4ddaa": {
       "attrs": {
        "height": 1,
        "width": 1,
        "x": 0,
        "y": 0
       },
       "content": {
        "cell": "1e3d5ce2-782f-45ad-a015-07711bdf5ccc",
        "part": "outputs"
       },
       "id": "99492b18-3a5c-4452-9335-99d6e5d4ddaa"
      }
     }
    },
    "753f4e03-5265-4c1c-9c1b-72970e5e00cd": {
     "id": "753f4e03-5265-4c1c-9c1b-72970e5e00cd",
     "layout": "grid",
     "prev": null,
     "regions": {
      "557db40f-41bf-4263-9531-9a4098356414": {
       "attrs": {
        "height": 1,
        "pad": 0.01,
        "treemap:weight": 1,
        "width": 1,
        "x": 0,
        "y": 0
       },
       "content": {
        "cell": "63d78fff-4644-4bc1-802d-8c0e24e1b46c",
        "part": "source"
       },
       "id": "557db40f-41bf-4263-9531-9a4098356414"
      }
     },
     "theme": "9bc32250-8141-44ab-9742-f228afee0285"
    },
    "d299296d-2575-416b-b0fa-4b98eb7cc2c7": {
     "id": "d299296d-2575-416b-b0fa-4b98eb7cc2c7",
     "prev": "e5d7510f-5a55-439f-b3a7-419e0e19497a",
     "regions": {
      "b7d14dcd-1a4f-4927-9100-ea9fec912475": {
       "attrs": {
        "height": 1,
        "width": 1,
        "x": 0,
        "y": 0
       },
       "content": {
        "cell": "90d8633e-11b1-4d70-866d-483e88575b7b",
        "part": "source"
       },
       "id": "b7d14dcd-1a4f-4927-9100-ea9fec912475"
      }
     }
    },
    "d8bcce00-cfd9-4667-9a00-e4d846cb6f68": {
     "id": "d8bcce00-cfd9-4667-9a00-e4d846cb6f68",
     "prev": "441ed416-3689-47ed-87ca-bbead46dd109",
     "regions": {
      "47a9a11d-ae90-4718-b49d-2753c9a2b956": {
       "attrs": {
        "height": 1,
        "width": 1,
        "x": 0,
        "y": 0
       },
       "content": {
        "cell": "1e3d5ce2-782f-45ad-a015-07711bdf5ccc",
        "part": "source"
       },
       "id": "47a9a11d-ae90-4718-b49d-2753c9a2b956"
      }
     }
    },
    "e5d7510f-5a55-439f-b3a7-419e0e19497a": {
     "id": "e5d7510f-5a55-439f-b3a7-419e0e19497a",
     "prev": "f6a65833-7e9a-46ae-a275-bc5c63c2dee4",
     "regions": {
      "a462b285-13c5-4c91-a84a-0f693bf1c449": {
       "attrs": {
        "height": 0.8,
        "width": 0.8,
        "x": 0.1,
        "y": 0.1
       },
       "content": {
        "cell": "c20e12f8-1858-48f8-9d1a-ea2e173b0cf8",
        "part": "whole"
       },
       "id": "a462b285-13c5-4c91-a84a-0f693bf1c449"
      },
      "dc8b0a24-1f1a-4cc7-a752-6f4e1db68bd9": {
       "attrs": {
        "height": 1,
        "width": 1,
        "x": 0,
        "y": 0
       },
       "id": "dc8b0a24-1f1a-4cc7-a752-6f4e1db68bd9"
      }
     }
    },
    "f6a65833-7e9a-46ae-a275-bc5c63c2dee4": {
     "id": "f6a65833-7e9a-46ae-a275-bc5c63c2dee4",
     "prev": "753f4e03-5265-4c1c-9c1b-72970e5e00cd",
     "regions": {
      "473c100d-f087-4a4c-86e6-8292bdf952ee": {
       "attrs": {
        "height": 0.4,
        "width": 0.4,
        "x": 0.1,
        "y": 0.1
       },
       "id": "473c100d-f087-4a4c-86e6-8292bdf952ee"
      },
      "55e50947-9a98-4bd6-be37-10d55abbef4c": {
       "attrs": {
        "height": 0.4,
        "width": 0.4,
        "x": 0.5,
        "y": 0.1
       },
       "id": "55e50947-9a98-4bd6-be37-10d55abbef4c"
      },
      "61563eb1-697d-4275-a7a7-f0e04058cb46": {
       "attrs": {
        "height": 0.4,
        "width": 0.4,
        "x": 0.1,
        "y": 0.5
       },
       "content": {
        "cell": "1e3d5ce2-782f-45ad-a015-07711bdf5ccc",
        "part": "whole"
       },
       "id": "61563eb1-697d-4275-a7a7-f0e04058cb46"
      },
      "6b26b3d4-7315-4049-a6a3-78603b32ea0d": {
       "attrs": {
        "height": 0.4,
        "width": 0.4,
        "x": 0.5,
        "y": 0.5
       },
       "id": "6b26b3d4-7315-4049-a6a3-78603b32ea0d"
      }
     }
    }
   },
   "themes": {
    "default": "9bc32250-8141-44ab-9742-f228afee0285",
    "theme": {
     "9bc32250-8141-44ab-9742-f228afee0285": {
      "id": "9bc32250-8141-44ab-9742-f228afee0285",
      "palette": {
       "19cc588f-0593-49c9-9f4b-e4d7cc113b1c": {
        "id": "19cc588f-0593-49c9-9f4b-e4d7cc113b1c",
        "rgb": [
         252,
         252,
         252
        ]
       },
       "31af15d2-7e15-44c5-ab5e-e04b16a89eff": {
        "id": "31af15d2-7e15-44c5-ab5e-e04b16a89eff",
        "rgb": [
         68,
         68,
         68
        ]
       },
       "50f92c45-a630-455b-aec3-788680ec7410": {
        "id": "50f92c45-a630-455b-aec3-788680ec7410",
        "rgb": [
         155,
         177,
         192
        ]
       },
       "c5cc3653-2ee1-402a-aba2-7caae1da4f6c": {
        "id": "c5cc3653-2ee1-402a-aba2-7caae1da4f6c",
        "rgb": [
         43,
         126,
         184
        ]
       },
       "efa7f048-9acb-414c-8b04-a26811511a21": {
        "id": "efa7f048-9acb-414c-8b04-a26811511a21",
        "rgb": [
         25.118061674008803,
         73.60176211453744,
         107.4819383259912
        ]
       }
      },
      "rules": {
       "blockquote": {
        "color": "50f92c45-a630-455b-aec3-788680ec7410"
       },
       "code": {
        "font-family": "Anonymous Pro"
       },
       "h1": {
        "color": "c5cc3653-2ee1-402a-aba2-7caae1da4f6c",
        "font-family": "Lato",
        "font-size": 8
       },
       "h2": {
        "color": "c5cc3653-2ee1-402a-aba2-7caae1da4f6c",
        "font-family": "Lato",
        "font-size": 6
       },
       "h3": {
        "color": "50f92c45-a630-455b-aec3-788680ec7410",
        "font-family": "Lato",
        "font-size": 5.5
       },
       "h4": {
        "color": "c5cc3653-2ee1-402a-aba2-7caae1da4f6c",
        "font-family": "Lato",
        "font-size": 5
       },
       "h5": {
        "font-family": "Lato"
       },
       "h6": {
        "font-family": "Lato"
       },
       "h7": {
        "font-family": "Lato"
       },
       "pre": {
        "font-family": "Anonymous Pro",
        "font-size": 4
       }
      },
      "text-base": {
       "font-family": "Merriweather",
       "font-size": 4
      }
     }
    }
   }
  },
  "toc": {
   "navigate_menu": true,
   "number_sections": true,
   "sideBar": true,
   "threshold": 6,
   "toc_cell": false,
   "toc_section_display": "block",
   "toc_window_display": false
  }
 },
 "nbformat": 4,
 "nbformat_minor": 1
}
